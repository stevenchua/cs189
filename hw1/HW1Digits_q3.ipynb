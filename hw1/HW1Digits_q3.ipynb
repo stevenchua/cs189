{
 "cells": [
  {
   "cell_type": "markdown",
   "metadata": {},
   "source": [
    "#__Problem 3.__\n",
    "###### Explain why cross-validation helps. Implement cross- validation5 and find the optimal value of the parameter C using 10- fold cross-validation on the training set with 10,000 examples. Train a linear SVM with this value of C. Please report your C value, the validation error rate, and your Kaggle score. If you used additional features, please (briefly) describe what features you added, removed, or modified.\n",
    "\n",
    "Cross validation is important because often we have a machine learning model that depends on some parameter that we want to tune to optimize (speed, accuracy ..etc) . So cross validation splits up our sample so that we can conduct these experiments with different values of the model parameter and then it returns a score computed from the  mean squared error that enable us to evaluate whether that is a good value to use for the model or find the best parameter that gives the most accurate result."
   ]
  },
  {
   "cell_type": "code",
   "execution_count": 2,
   "metadata": {
    "collapsed": false
   },
   "outputs": [
    {
     "name": "stdout",
     "output_type": "stream",
     "text": [
      "Populating the interactive namespace from numpy and matplotlib\n"
     ]
    }
   ],
   "source": [
    "%pylab inline\n",
    "import sklearn.metrics\n",
    "import scipy.io\n",
    "from sklearn import svm\n",
    "DEBUG=False\n",
    "digit_data_test = scipy.io.loadmat(\"data/digit-dataset/test.mat\")\n",
    "digit_data_train = scipy.io.loadmat(\"data/digit-dataset/train.mat\")\n",
    "\n",
    "test_img= digit_data_test['test_images']\n",
    "train_img= digit_data_train['train_images']\n",
    "train_label= digit_data_train['train_labels']\n",
    "\n",
    "#Flatten the 28x28 images into 784 pixel long vectors \n",
    "train_img_flat=[]\n",
    "for i in np.arange(shape(train_img)[2]):\n",
    "    train_img_flat.append(train_img[:,:,i].flatten())\n",
    "train_img_flat= np.array(train_img_flat)\n",
    "\n",
    "# Code written by Kunal Marwaha on Piazza\n",
    "import math\n",
    "#benchmark.m, converted\n",
    "def benchmark(pred_labels, true_labels):\n",
    "    errors = pred_labels != true_labels\n",
    "    err_rate = sum(errors) / float(len(true_labels))\n",
    "    indices = errors.nonzero()\n",
    "    return err_rate, indices\n",
    "#montage_images.m, converted\n",
    "def montage_images(images):\n",
    "    num_images=min(1000,np.size(images,2))\n",
    "    numrows=math.floor(math.sqrt(num_images))\n",
    "    numcols=math.ceil(num_images/numrows)\n",
    "    img=np.zeros((numrows*28,numcols*28));\n",
    "    for k in range(num_images):\n",
    "        r = k % numrows\n",
    "        c = k // numrows\n",
    "        img[r*28:(r+1)*28,c*28:(c+1)*28]=images[:,:,k];\n",
    "    return img"
   ]
  },
  {
   "cell_type": "markdown",
   "metadata": {},
   "source": [
    "Optimal C value $\\approx$ 1/N , so the good ones is around 0.0001."
   ]
  },
  {
   "cell_type": "code",
   "execution_count": 3,
   "metadata": {
    "collapsed": false
   },
   "outputs": [],
   "source": [
    "#Setting up the problem k=10-fold cross validation\n",
    "N_total = 10000\n",
    "data = train_img_flat[:N_total]\n",
    "k=10\n",
    "batch_size =shape(data)[0]/k\n",
    "if (DEBUG): print batch_size\n",
    "#Creating a list of 10000 random numbers\n",
    "s = set()\n",
    "while len(s) < N_total:\n",
    "    s.add(random.randint(60000))\n",
    "rand_idx=np.array(list(s))\n",
    "np.random.shuffle(rand_idx)"
   ]
  },
  {
   "cell_type": "code",
   "execution_count": 126,
   "metadata": {
    "collapsed": false
   },
   "outputs": [
    {
     "name": "stdout",
     "output_type": "stream",
     "text": [
      "(10, 1000, 784)\n",
      "(10, 1000)\n"
     ]
    }
   ],
   "source": [
    "DEBUG = True\n",
    "#Creating a gigantic array of all the training sets, grouped by each batch (fold)\n",
    "mega_train_subset=[]\n",
    "mega_labels_subset=[]\n",
    "#Looping through each fold\n",
    "for i in np.arange(k)+1:\n",
    "#     print \"Batch {}\".format(i)\n",
    "    train_subset = []\n",
    "    labels_subset = []\n",
    "#     print (i-1)*batch_size\n",
    "#     print i*batch_size\n",
    "#     print shape(rand_idx[(i-1)*batch_size:i*batch_size])\n",
    "    #Merge data for each batch into one\n",
    "    for idx in rand_idx[(i-1)*batch_size:i*batch_size]:\n",
    "        train_subset.append(train_img_flat[idx])\n",
    "        labels_subset.append(train_label[:,0][idx])\n",
    "    train_subset = np.array(train_subset)\n",
    "    labels_subset = np.array(labels_subset)\n",
    "    mega_train_subset.append(train_subset)\n",
    "    mega_labels_subset.append(labels_subset)\n",
    "mega_train_subset = np.array(mega_train_subset)\n",
    "mega_labels_subset = np.array(mega_labels_subset)\n",
    "if (DEBUG): print shape(mega_train_subset)\n",
    "if (DEBUG): print shape(mega_labels_subset)"
   ]
  },
  {
   "cell_type": "code",
   "execution_count": 9,
   "metadata": {
    "collapsed": false
   },
   "outputs": [
    {
     "name": "stdout",
     "output_type": "stream",
     "text": [
      "Testing C=1e-10\n",
      "Testing C=1e-08\n",
      "Testing C=1e-07\n",
      "Testing C=1e-05\n",
      "Testing C=0.001\n",
      "Testing C=0.01\n"
     ]
    }
   ],
   "source": [
    "mse_lst_for_diff_C = []\n",
    "# C_list = [1e-5,1e-2,1,10,100,1000,1e5,1e8,1e10,1e20] \n",
    "C_list = [1e-10,1e-8,1e-7,1e-5, 1e-3,1e-2]#,1000,1e5,1e8,1e10] \n",
    "for c in C_list:\n",
    "    print \"Testing C={}\".format(c)\n",
    "    mse_err_lst=[]\n",
    "    for k_th_set in np.arange(k):\n",
    "        #selecting the kth element for verification set\n",
    "        verify_data = mega_train_subset[k_th_set]\n",
    "        verify_labels = mega_labels_subset[k_th_set]\n",
    "        #select only the ones EXCLUDING the kth element for training\n",
    "        train_data = np.concatenate((mega_train_subset[:k_th_set-1,:,:],mega_train_subset[k_th_set:,:,:]))\n",
    "        #Merging all the kth batches into one large datafile \n",
    "        train_data =  train_data.reshape((shape( train_data)[0]*batch_size,shape(train_data)[2]))\n",
    "        train_labels = np.concatenate((mega_labels_subset[:k_th_set-1],mega_labels_subset[k_th_set:]))\n",
    "        train_labels = train_labels.reshape((shape(train_labels)[0]*batch_size,))\n",
    "#         print shape(train_labels)[0]*batch_size\n",
    "#         print shape(train_data)\n",
    "#         print shape(train_labels)\n",
    "#         clf = svm.SVC(kernel=\"linear\", C=c)\n",
    "        clf = svm.LinearSVC(C=c)\n",
    "        clf.fit(train_data,train_labels)\n",
    "        result = clf.predict(verify_data)\n",
    "        mse = benchmark(verify_labels, result)[0]\n",
    "#         print mse\n",
    "        mse_err_lst.append(mse)\n",
    "#     print \"average mse: \", mean(mse_err_lst)\n",
    "    mse_lst_for_diff_C.append(mean(mse_err_lst))"
   ]
  },
  {
   "cell_type": "code",
   "execution_count": 10,
   "metadata": {
    "collapsed": false,
    "scrolled": true
   },
   "outputs": [
    {
     "name": "stdout",
     "output_type": "stream",
     "text": [
      "[1e-10, 1e-08, 1e-07, 1e-05, 0.001, 0.01]\n",
      "[0.27789999999999998, 0.1537, 0.11579999999999999, 0.069199999999999998, 0.091599999999999987, 0.097599999999999992]\n"
     ]
    }
   ],
   "source": [
    "print C_list\n",
    "print mse_lst_for_diff_C"
   ]
  },
  {
   "cell_type": "code",
   "execution_count": 13,
   "metadata": {
    "collapsed": false
   },
   "outputs": [
    {
     "data": {
      "text/plain": [
       "[<matplotlib.lines.Line2D at 0x7f9a2eaafa10>]"
      ]
     },
     "execution_count": 13,
     "metadata": {},
     "output_type": "execute_result"
    },
    {
     "data": {
      "image/png": "[encoded data removed]",
      "text/plain": [
       "<matplotlib.figure.Figure at 0x7f9a30a0c390>"
      ]
     },
     "metadata": {},
     "output_type": "display_data"
    }
   ],
   "source": [
    "plt.xlabel(\"C values\",fontsize=16)\n",
    "plt.ylabel(\"Error rate\",fontsize=16)\n",
    "plt.semilogx(C_list,mse_lst_for_diff_C,'o')\n",
    "plt.semilogx(C_list,mse_lst_for_diff_C,'-')"
   ]
  },
  {
   "cell_type": "code",
   "execution_count": 17,
   "metadata": {
    "collapsed": false
   },
   "outputs": [
    {
     "name": "stdout",
     "output_type": "stream",
     "text": [
      "Testing C=1e-05\n",
      "Testing C=5e-05\n",
      "Testing C=1e-06\n",
      "Testing C=5e-06\n"
     ]
    }
   ],
   "source": [
    "mse_lst_for_diff_C = []\n",
    "C_list = [1e-5,5e-5,1e-6,5e-6] \n",
    "for c in C_list:\n",
    "    print \"Testing C={}\".format(c)\n",
    "    mse_err_lst=[]\n",
    "    for k_th_set in np.arange(k):\n",
    "        #selecting the kth element for verification set\n",
    "        verify_data = mega_train_subset[k_th_set]\n",
    "        verify_labels = mega_labels_subset[k_th_set]\n",
    "        #select only the ones EXCLUDING the kth element for training\n",
    "        train_data = np.concatenate((mega_train_subset[:k_th_set-1,:,:],mega_train_subset[k_th_set:,:,:]))\n",
    "        #Merging all the kth batches into one large datafile \n",
    "        train_data =  train_data.reshape((shape( train_data)[0]*batch_size,shape(train_data)[2]))\n",
    "        train_labels = np.concatenate((mega_labels_subset[:k_th_set-1],mega_labels_subset[k_th_set:]))\n",
    "        train_labels = train_labels.reshape((shape(train_labels)[0]*batch_size,))\n",
    "#         print shape(train_labels)[0]*batch_size\n",
    "#         print shape(train_data)\n",
    "#         print shape(train_labels)\n",
    "#         clf = svm.SVC(kernel=\"linear\", C=c)\n",
    "        clf = svm.LinearSVC(C=c)\n",
    "        clf.fit(train_data,train_labels)\n",
    "        result = clf.predict(verify_data)\n",
    "        mse = benchmark(verify_labels, result)[0]\n",
    "#         print mse\n",
    "        mse_err_lst.append(mse)\n",
    "#     print \"average mse: \", mean(mse_err_lst)\n",
    "    mse_lst_for_diff_C.append(mean(mse_err_lst))"
   ]
  },
  {
   "cell_type": "code",
   "execution_count": 21,
   "metadata": {
    "collapsed": false
   },
   "outputs": [
    {
     "data": {
      "text/plain": [
       "[<matplotlib.lines.Line2D at 0x7f9ae96d6410>]"
      ]
     },
     "execution_count": 21,
     "metadata": {},
     "output_type": "execute_result"
    },
    {
     "data": {
      "image/png": "[encoded data removed]",
      "text/plain": [
       "<matplotlib.figure.Figure at 0x7f9a2e903f90>"
      ]
     },
     "metadata": {},
     "output_type": "display_data"
    }
   ],
   "source": [
    "plt.xlabel(\"C values\",fontsize=16)\n",
    "plt.ylabel(\"Error rate\",fontsize=16)\n",
    "plt.semilogx(C_list,mse_lst_for_diff_C,'o')\n",
    "plt.semilogx(C_list,mse_lst_for_diff_C,'-')"
   ]
  },
  {
   "cell_type": "code",
   "execution_count": 28,
   "metadata": {
    "collapsed": false
   },
   "outputs": [
    {
     "data": {
      "text/plain": [
       "[<matplotlib.lines.Line2D at 0x7f9aebff55d0>]"
      ]
     },
     "execution_count": 28,
     "metadata": {},
     "output_type": "execute_result"
    },
    {
     "data": {
      "image/png": "[encoded data removed]",
      "text/plain": [
       "<matplotlib.figure.Figure at 0x7f9aebff5d10>"
      ]
     },
     "metadata": {},
     "output_type": "display_data"
    }
   ],
   "source": [
    "plt.xlabel(\"C values\",fontsize=16)\n",
    "plt.ylabel(\"Error rate\",fontsize=16)\n",
    "plt.semilogx(C_list,mse_lst_for_diff_C,'o')\n",
    "plt.semilogx(C_list,mse_lst_for_diff_C,'-')"
   ]
  },
  {
   "cell_type": "code",
   "execution_count": 40,
   "metadata": {
    "collapsed": false
   },
   "outputs": [
    {
     "data": {
      "text/plain": [
       "(4.5e-05, 5.3e-05)"
      ]
     },
     "execution_count": 40,
     "metadata": {},
     "output_type": "execute_result"
    },
    {
     "data": {
      "image/png": "[encoded data removed]",
      "text/plain": [
       "<matplotlib.figure.Figure at 0x7f9ae98dc810>"
      ]
     },
     "metadata": {},
     "output_type": "display_data"
    }
   ],
   "source": [
    "plt.xlabel(\"C values\",fontsize=16)\n",
    "plt.ylabel(\"Error rate\",fontsize=16)\n",
    "plt.plot(C_list,mse_lst_for_diff_C,'o')\n",
    "plt.plot(C_list,mse_lst_for_diff_C,'-')\n",
    "plt.xlim(4.5e-5,5.3e-5)"
   ]
  },
  {
   "cell_type": "markdown",
   "metadata": {},
   "source": [
    "#### Best C values is __5e-5__ for N=10000 dataset "
   ]
  },
  {
   "cell_type": "code",
   "execution_count": 104,
   "metadata": {
    "collapsed": false
   },
   "outputs": [
    {
     "name": "stdout",
     "output_type": "stream",
     "text": [
      "(10000, 2)\n"
     ]
    }
   ],
   "source": [
    "digit_data_test = scipy.io.loadmat(\"data/digit-dataset/test.mat\")\n",
    "digit_data_train = scipy.io.loadmat(\"data/digit-dataset/train.mat\")\n",
    "\n",
    "test_img= digit_data_test['test_images'].T\n",
    "train_img= digit_data_train['train_images']\n",
    "train_label= digit_data_train['train_labels']\n",
    "test_img_flat=[]\n",
    "for i in np.arange(shape(test_img)[2]):\n",
    "    test_img_flat.append(test_img[:,:,i].flatten())\n",
    "test_img_flat= np.array(test_img_flat)\n",
    "clf = svm.LinearSVC(C=5e-5)\n",
    "clf.fit(train_data,train_labels)\n",
    "result = clf.predict(test_img_flat)\n",
    "a = numpy.array([np.arange(1,10001),result],dtype=np.int64).T\n",
    "print shape(a)\n",
    "numpy.savetxt(\"Submission.csv\", a, delimiter=\",\",fmt='%i')"
   ]
  },
  {
   "cell_type": "markdown",
   "metadata": {},
   "source": [
    "#### Training with 60000 images to increase Kaggle score. "
   ]
  },
  {
   "cell_type": "code",
   "execution_count": 122,
   "metadata": {
    "collapsed": false
   },
   "outputs": [
    {
     "name": "stdout",
     "output_type": "stream",
     "text": [
      "(60000, 784)\n",
      "(60000,)\n"
     ]
    }
   ],
   "source": [
    "print shape(train_img_flat)\n",
    "print shape(train_label[:,0])"
   ]
  },
  {
   "cell_type": "code",
   "execution_count": 123,
   "metadata": {
    "collapsed": false
   },
   "outputs": [
    {
     "data": {
      "text/plain": [
       "LinearSVC(C=5e-05, class_weight=None, dual=True, fit_intercept=True,\n",
       "     intercept_scaling=1, loss='squared_hinge', max_iter=1000,\n",
       "     multi_class='ovr', penalty='l2', random_state=None, tol=0.0001,\n",
       "     verbose=0)"
      ]
     },
     "execution_count": 123,
     "metadata": {},
     "output_type": "execute_result"
    }
   ],
   "source": [
    "clf = svm.LinearSVC(C=5e-5)\n",
    "clf.fit(train_img_flat,train_label[:,0])"
   ]
  },
  {
   "cell_type": "code",
   "execution_count": 124,
   "metadata": {
    "collapsed": true
   },
   "outputs": [],
   "source": [
    "result =  clf.predict(test_img_flat)"
   ]
  },
  {
   "cell_type": "code",
   "execution_count": 134,
   "metadata": {
    "collapsed": false
   },
   "outputs": [
    {
     "name": "stdout",
     "output_type": "stream",
     "text": [
      "(10000, 2)\n"
     ]
    }
   ],
   "source": [
    "a = numpy.array([np.arange(1,10001),result],dtype=np.int64).T\n",
    "print shape(a)\n",
    "numpy.savetxt(\"Submission_Digits.csv\", a, delimiter=\",\",fmt='%i')"
   ]
  },
  {
   "cell_type": "markdown",
   "metadata": {},
   "source": [
    "Now the Kaggle score went up from 0.83280 to  0.88520 ! \n",
    "\n",
    "No additional feature was added or removed for my classifier."
   ]
  }
 ],
 "metadata": {
  "kernelspec": {
   "display_name": "Python 2",
   "language": "python",
   "name": "python2"
  },
  "language_info": {
   "codemirror_mode": {
    "name": "ipython",
    "version": 2
   },
   "file_extension": ".py",
   "mimetype": "text/x-python",
   "name": "python",
   "nbconvert_exporter": "python",
   "pygments_lexer": "ipython2",
   "version": "2.7.6"
  }
 },
 "nbformat": 4,
 "nbformat_minor": 0
}
