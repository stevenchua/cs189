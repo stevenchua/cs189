{
 "cells": [
  {
   "cell_type": "markdown",
   "metadata": {},
   "source": [
    "# __Problem 4.__"
   ]
  },
  {
   "cell_type": "markdown",
   "metadata": {},
   "source": [
    "Use your cross-validation implementation from above to train a linear SVM for your spam dataset. Please report your C value, the validation error rate, and your Kaggle score. If you mod- ified the spam features, please (briefly) describe what features you added, removed, or modified."
   ]
  },
  {
   "cell_type": "code",
   "execution_count": 2,
   "metadata": {
    "collapsed": false
   },
   "outputs": [
    {
     "name": "stdout",
     "output_type": "stream",
     "text": [
      "Populating the interactive namespace from numpy and matplotlib\n"
     ]
    }
   ],
   "source": [
    "%pylab inline\n",
    "import sklearn.metrics\n",
    "import scipy.io\n",
    "from sklearn import svm\n",
    "DEBUG=True\n",
    "spam_data_test = scipy.io.loadmat(\"data/spam-dataset/spam_data.mat\")\n",
    "test_data = spam_data_test['test_data']\n",
    "train_data = spam_data_test['training_data']\n",
    "train_label = spam_data_test['training_labels']\n",
    "\n",
    "import math\n",
    "#benchmark.m, converted\n",
    "def benchmark(pred_labels, true_labels):\n",
    "    errors = pred_labels != true_labels\n",
    "    err_rate = sum(errors) / float(len(true_labels))\n",
    "    indices = errors.nonzero()\n",
    "    return err_rate, indices\n",
    "#montage_images.m, converted\n",
    "def montage_images(images):\n",
    "    num_images=min(1000,np.size(images,2))\n",
    "    numrows=math.floor(math.sqrt(num_images))\n",
    "    numcols=math.ceil(num_images/numrows)\n",
    "    img=np.zeros((numrows*28,numcols*28));\n",
    "    for k in range(num_images):\n",
    "        r = k % numrows\n",
    "        c = k // numrows\n",
    "        img[r*28:(r+1)*28,c*28:(c+1)*28]=images[:,:,k];\n",
    "    return img"
   ]
  },
  {
   "cell_type": "markdown",
   "metadata": {},
   "source": [
    "Here the features are words, there are 32 words inside featurize.py"
   ]
  },
  {
   "cell_type": "code",
   "execution_count": 160,
   "metadata": {
    "collapsed": false
   },
   "outputs": [
    {
     "name": "stdout",
     "output_type": "stream",
     "text": [
      "517\n"
     ]
    }
   ],
   "source": [
    "#Setting up the problem k=10-fold cross validation\n",
    "N_total = 5170\n",
    "k=10\n",
    "train_data=train_data[:N_total]\n",
    "batch_size = int(np.ceil(shape(train_data)[0]/float(k)))\n",
    "if (DEBUG): print batch_size\n",
    "#Creating a list of 10000 random numbers\n",
    "s = set()\n",
    "while len(s) < N_total:\n",
    "    s.add(random.randint(N_total))\n",
    "rand_idx=np.array(list(s))\n",
    "np.random.shuffle(rand_idx)\n",
    "\n",
    "#Creating a gigantic array of all the training sets, grouped by each batch (fold)\n",
    "mega_train_subset=[]\n",
    "mega_labels_subset=[]\n",
    "#Looping through each fold\n",
    "for i in np.arange(k)+1:\n",
    "#     print \"Batch {}\".format(i)\n",
    "    train_subset = []\n",
    "    labels_subset = []\n",
    "    #Merge data for each batch into one\n",
    "    for idx in rand_idx[(i-1)*batch_size:i*batch_size]:\n",
    "        train_subset.append(list(train_data)[idx].tolist())\n",
    "        labels_subset.append(list(train_label)[0][idx].tolist())\n",
    "    train_subset = np.array(train_subset, dtype=uint8)\n",
    "    labels_subset = np.array(labels_subset, dtype=uint8)\n",
    "#     print shape(train_subset)\n",
    "#     print shape(labels_subset)\n",
    "    mega_train_subset.append(train_subset)\n",
    "    mega_labels_subset.append(labels_subset)\n",
    "mega_train_subset = np.array(mega_train_subset)\n",
    "mega_labels_subset = np.array(mega_labels_subset)\n",
    "if (DEBUG): print shape(mega_train_subset)\n",
    "if (DEBUG): print shape(mega_labels_subset)"
   ]
  },
  {
   "cell_type": "code",
   "execution_count": 191,
   "metadata": {
    "collapsed": false
   },
   "outputs": [
    {
     "name": "stdout",
     "output_type": "stream",
     "text": [
      "Testing C=80\n",
      "Testing C=82\n",
      "Testing C=84\n",
      "Testing C=86\n",
      "Testing C=88\n",
      "Testing C=90\n",
      "Testing C=92\n",
      "Testing C=94\n",
      "Testing C=96\n",
      "Testing C=98\n"
     ]
    }
   ],
   "source": [
    "mse_lst_for_diff_C = []\n",
    "# C_list = [1e-5,1e-2,1,10,100,1000,1e5,1e8,1e10,1e20] \n",
    "# C_list = [1e-6,1e-5, 1e-4,5e-4,1e-3,5e-3, 1e-2]\n",
    "# C_list = [5e-3, 1e-2,1e-1,1,10]\n",
    "# C_list = [1,10,100,100]\n",
    "# C_list = [2,5,8,10,15,20,40,60,80,100]\n",
    "# C_list = [60,70,80,90,100]\n",
    "C_list = np.arange(80,100,2)\n",
    "for c in C_list:\n",
    "    print \"Testing C={}\".format(c)\n",
    "    mse_err_lst=[]\n",
    "    for k_th_set in np.arange(k):\n",
    "        #selecting the kth element for verification set\n",
    "        verify_data = mega_train_subset[k_th_set]\n",
    "        verify_labels = mega_labels_subset[k_th_set]\n",
    "        #select only the ones EXCLUDING the kth element for training\n",
    "        train_data = np.concatenate((mega_train_subset[:k_th_set-1,:,:],mega_train_subset[k_th_set:,:,:]))\n",
    "        #Merging all the kth batches into one large datafile \n",
    "        train_data =  train_data.reshape((shape( train_data)[0]*batch_size,shape(train_data)[2]))\n",
    "        train_labels = np.concatenate((mega_labels_subset[:k_th_set-1],mega_labels_subset[k_th_set:]))\n",
    "        train_labels = train_labels.reshape((shape(train_labels)[0]*batch_size,))\n",
    "#         print shape(train_labels)[0]*batch_size\n",
    "#         print shape(train_data)\n",
    "#         print shape(train_labels)\n",
    "#         clf = svm.SVC(kernel=\"linear\", C=c)\n",
    "        clf = svm.LinearSVC(C=c)\n",
    "        clf.fit(train_data,train_labels)\n",
    "        result = clf.predict(verify_data)\n",
    "        mse = benchmark(verify_labels, result)[0]\n",
    "#         print mse\n",
    "        mse_err_lst.append(mse)\n",
    "#     print \"average mse: \", mean(mse_err_lst)\n",
    "    mse_lst_for_diff_C.append(mean(mse_err_lst))"
   ]
  },
  {
   "cell_type": "code",
   "execution_count": 184,
   "metadata": {
    "collapsed": false
   },
   "outputs": [
    {
     "data": {
      "text/plain": [
       "[<matplotlib.lines.Line2D at 0x7f812a721390>]"
      ]
     },
     "execution_count": 184,
     "metadata": {},
     "output_type": "execute_result"
    },
    {
     "data": {
      "image/png": "[encoded data removed]",
      "text/plain": [
       "<matplotlib.figure.Figure at 0x7f812add5450>"
      ]
     },
     "metadata": {},
     "output_type": "display_data"
    }
   ],
   "source": [
    "plt.xlabel(\"C values\",fontsize=16)\n",
    "plt.ylabel(\"Error rate\",fontsize=16)\n",
    "plt.semilogx(C_list,mse_lst_for_diff_C,'o')\n",
    "plt.semilogx(C_list,mse_lst_for_diff_C,'-')"
   ]
  },
  {
   "cell_type": "code",
   "execution_count": 187,
   "metadata": {
    "collapsed": false
   },
   "outputs": [
    {
     "data": {
      "text/plain": [
       "[<matplotlib.lines.Line2D at 0x7f8123c7bd50>]"
      ]
     },
     "execution_count": 187,
     "metadata": {},
     "output_type": "execute_result"
    },
    {
     "data": {
      "image/png": "[encoded data removed]",
      "text/plain": [
       "<matplotlib.figure.Figure at 0x7f812a83e690>"
      ]
     },
     "metadata": {},
     "output_type": "display_data"
    }
   ],
   "source": [
    "plt.xlabel(\"C values\",fontsize=16)\n",
    "plt.ylabel(\"Error rate\",fontsize=16)\n",
    "plt.plot(C_list,mse_lst_for_diff_C,'o')\n",
    "plt.plot(C_list,mse_lst_for_diff_C,'-')"
   ]
  },
  {
   "cell_type": "code",
   "execution_count": 189,
   "metadata": {
    "collapsed": false
   },
   "outputs": [
    {
     "data": {
      "text/plain": [
       "[<matplotlib.lines.Line2D at 0x7f8123eb6d10>]"
      ]
     },
     "execution_count": 189,
     "metadata": {},
     "output_type": "execute_result"
    },
    {
     "data": {
      "image/png": "[encoded data removed]",
      "text/plain": [
       "<matplotlib.figure.Figure at 0x7f8123c500d0>"
      ]
     },
     "metadata": {},
     "output_type": "display_data"
    }
   ],
   "source": [
    "plt.xlabel(\"C values\",fontsize=16)\n",
    "plt.ylabel(\"Error rate\",fontsize=16)\n",
    "plt.plot(C_list,mse_lst_for_diff_C,'o')\n",
    "plt.plot(C_list,mse_lst_for_diff_C,'-')"
   ]
  },
  {
   "cell_type": "code",
   "execution_count": 192,
   "metadata": {
    "collapsed": false
   },
   "outputs": [
    {
     "data": {
      "text/plain": [
       "[<matplotlib.lines.Line2D at 0x7f8123b6db90>]"
      ]
     },
     "execution_count": 192,
     "metadata": {},
     "output_type": "execute_result"
    },
    {
     "data": {
      "image/png": "[encoded data removed]",
      "text/plain": [
       "<matplotlib.figure.Figure at 0x7f8123ca6310>"
      ]
     },
     "metadata": {},
     "output_type": "display_data"
    }
   ],
   "source": [
    "plt.xlabel(\"C values\",fontsize=16)\n",
    "plt.ylabel(\"Error rate\",fontsize=16)\n",
    "plt.plot(C_list,mse_lst_for_diff_C,'o')\n",
    "plt.plot(C_list,mse_lst_for_diff_C,'-')"
   ]
  },
  {
   "cell_type": "markdown",
   "metadata": {},
   "source": [
    "So the best C value that minimizes the error is __92__"
   ]
  },
  {
   "cell_type": "code",
   "execution_count": 199,
   "metadata": {
    "collapsed": false
   },
   "outputs": [
    {
     "data": {
      "text/plain": [
       "LinearSVC(C=92, class_weight=None, dual=True, fit_intercept=True,\n",
       "     intercept_scaling=1, loss='squared_hinge', max_iter=1000,\n",
       "     multi_class='ovr', penalty='l2', random_state=None, tol=0.0001,\n",
       "     verbose=0)"
      ]
     },
     "execution_count": 199,
     "metadata": {},
     "output_type": "execute_result"
    }
   ],
   "source": [
    "spam_data_test = scipy.io.loadmat(\"data/spam-dataset/spam_data.mat\")\n",
    "test_data = spam_data_test['test_data']\n",
    "clf = svm.LinearSVC(C=92)\n",
    "clf.fit(train_data,train_labels)\n",
    "result = clf.predict(test_data)\n",
    "a = numpy.array([np.arange(1,5858),result],dtype=np.int64).T\n",
    "print shape(a)\n",
    "numpy.savetxt(\"Submission_Spam.csv\", a, delimiter=\",\",fmt='%i')"
   ]
  },
  {
   "cell_type": "markdown",
   "metadata": {},
   "source": [
    "#### Added more features: words \"cheap\", \"medication\",\"discount\""
   ]
  },
  {
   "cell_type": "markdown",
   "metadata": {},
   "source": [
    "I added the features \"cheap\",\"medication\" and \"discount\" in the feature.py to generate a new spam_data.mat dataset that included these feature (35 dimensions). However, my validation score decreased due to this. I removed the feature \"discount\" because it showed up many times in both ham and spam, whereas \"cheap\" and \"medication\" had many emails in the spam/ directory but only one or two emails in the ham/ directory. "
   ]
  },
  {
   "cell_type": "code",
   "execution_count": 14,
   "metadata": {
    "collapsed": false
   },
   "outputs": [],
   "source": [
    "spam_data_test = scipy.io.loadmat(\"data/spam-dataset/spam_data.mat\")\n",
    "test_data = spam_data_test['test_data']\n",
    "train_data = spam_data_test['training_data']\n",
    "train_label = spam_data_test['training_labels']\n",
    "clf = svm.LinearSVC(C=92)\n",
    "clf.fit(train_data,train_label[0])\n",
    "result = clf.predict(test_data)\n",
    "a = numpy.array([np.arange(1,5858),result],dtype=np.int64).T\n",
    "print shape(a)\n",
    "numpy.savetxt(\"Submission_Spam2.csv\", a, delimiter=\",\",fmt='%i')"
   ]
  },
  {
   "cell_type": "markdown",
   "metadata": {},
   "source": [
    "#### Removed discount from feature "
   ]
  },
  {
   "cell_type": "code",
   "execution_count": 1,
   "metadata": {
    "collapsed": false
   },
   "outputs": [
    {
     "ename": "NameError",
     "evalue": "name 'scipy' is not defined",
     "output_type": "error",
     "traceback": [
      "\u001b[0;31m---------------------------------------------------------------------------\u001b[0m",
      "\u001b[0;31mNameError\u001b[0m                                 Traceback (most recent call last)",
      "\u001b[0;32m<ipython-input-1-b774ccc5a01a>\u001b[0m in \u001b[0;36m<module>\u001b[0;34m()\u001b[0m\n\u001b[0;32m----> 1\u001b[0;31m \u001b[0mspam_data_test\u001b[0m \u001b[0;34m=\u001b[0m \u001b[0mscipy\u001b[0m\u001b[0;34m.\u001b[0m\u001b[0mio\u001b[0m\u001b[0;34m.\u001b[0m\u001b[0mloadmat\u001b[0m\u001b[0;34m(\u001b[0m\u001b[0;34m\"data/spam-dataset/spam_data.mat\"\u001b[0m\u001b[0;34m)\u001b[0m\u001b[0;34m\u001b[0m\u001b[0m\n\u001b[0m\u001b[1;32m      2\u001b[0m \u001b[0mtest_data\u001b[0m \u001b[0;34m=\u001b[0m \u001b[0mspam_data_test\u001b[0m\u001b[0;34m[\u001b[0m\u001b[0;34m'test_data'\u001b[0m\u001b[0;34m]\u001b[0m\u001b[0;34m\u001b[0m\u001b[0m\n\u001b[1;32m      3\u001b[0m \u001b[0mtrain_data\u001b[0m \u001b[0;34m=\u001b[0m \u001b[0mspam_data_test\u001b[0m\u001b[0;34m[\u001b[0m\u001b[0;34m'training_data'\u001b[0m\u001b[0;34m]\u001b[0m\u001b[0;34m\u001b[0m\u001b[0m\n\u001b[1;32m      4\u001b[0m \u001b[0mtrain_label\u001b[0m \u001b[0;34m=\u001b[0m \u001b[0mspam_data_test\u001b[0m\u001b[0;34m[\u001b[0m\u001b[0;34m'training_labels'\u001b[0m\u001b[0;34m]\u001b[0m\u001b[0;34m\u001b[0m\u001b[0m\n\u001b[1;32m      5\u001b[0m \u001b[0mclf\u001b[0m \u001b[0;34m=\u001b[0m \u001b[0msvm\u001b[0m\u001b[0;34m.\u001b[0m\u001b[0mLinearSVC\u001b[0m\u001b[0;34m(\u001b[0m\u001b[0mC\u001b[0m\u001b[0;34m=\u001b[0m\u001b[0;36m92\u001b[0m\u001b[0;34m)\u001b[0m\u001b[0;34m\u001b[0m\u001b[0m\n",
      "\u001b[0;31mNameError\u001b[0m: name 'scipy' is not defined"
     ]
    }
   ],
   "source": [
    "spam_data_test = scipy.io.loadmat(\"data/spam-dataset/spam_data.mat\")\n",
    "test_data = spam_data_test['test_data']\n",
    "train_data = spam_data_test['training_data']\n",
    "train_label = spam_data_test['training_labels']\n",
    "clf = svm.LinearSVC(C=92)\n",
    "clf.fit(train_data,train_label[0])\n",
    "result = clf.predict(test_data)\n",
    "a = numpy.array([np.arange(1,5858),result],dtype=np.int64).T\n",
    "print shape(a)\n",
    "# numpy.savetxt(\"Submission_Spam3.csv\", a, delimiter=\",\",fmt='%i')"
   ]
  },
  {
   "cell_type": "markdown",
   "metadata": {},
   "source": [
    "#References\n",
    "\n",
    "- \"1.4. Support Vector Machines.\" 1.4. Support Vector Machines — _Scikit-learn 0.17 Documentation_. N.p., n.d. Web. 01 Feb. 2016.\n",
    "- Markham, Kevin. \"Simple Guide to Confusion Matrix Terminology.\" _Data School_. N.p., 25 Mar. 2014. Web. 01 Feb. 2016.\n",
    "- \"Confusion Matrix.\" Confusion Matrix — _Scikit-learn 0.17 Documentation_. N.p., n.d. Web. 02 Feb. 2016.\n",
    "- James, Gareth, Daniela Witten, Trevor Hastie, and Robert Tibshirani. \"Chapter 5 Resampling Methods.\" _An Introduction to Statistical Learning: With Applications in R_. N.p.: Springer, n.d. 180-83. Print.\n",
    "- \"Confusion Matrix.\" Confusion Matrix — _Scikit-learn 0.17 Documentation_. N.p., n.d. Web. 04 Feb. 2016."
   ]
  }
 ],
 "metadata": {
  "kernelspec": {
   "display_name": "Python 2",
   "language": "python",
   "name": "python2"
  },
  "language_info": {
   "codemirror_mode": {
    "name": "ipython",
    "version": 2
   },
   "file_extension": ".py",
   "mimetype": "text/x-python",
   "name": "python",
   "nbconvert_exporter": "python",
   "pygments_lexer": "ipython2",
   "version": "2.7.6"
  }
 },
 "nbformat": 4,
 "nbformat_minor": 0
}
