{
 "cells": [
  {
   "cell_type": "code",
   "execution_count": 35,
   "metadata": {
    "collapsed": false
   },
   "outputs": [
    {
     "name": "stdout",
     "output_type": "stream",
     "text": [
      "Populating the interactive namespace from numpy and matplotlib\n"
     ]
    }
   ],
   "source": [
    "%pylab inline\n",
    "import scipy.io\n",
    "from sklearn import svm\n",
    "DEBUG=True"
   ]
  },
  {
   "cell_type": "raw",
   "metadata": {},
   "source": [
    "This will be used for Problems 1, 2, and 3. We have provided the following files:\n",
    "• train.mat - This file contains 60,000 digit images for training and their respective labels.\n",
    "• test.mat - This file contains 10,000 digit images without labels. This will be used for Kaggle.\n",
    "In addition to the dataset, we have provided two MATLAB func- tions in the code directory. benchmark.m will take in the predicted labels and true labels and return the error rate, as well as the indices of the incorrect labels. montage_images.m will produce a montage of a set of images. You can use this to visualize digits that you classify\n",
    "homework 1: support vector machines 5incorrectly. Both files are easily translatable into Python/NumPy if you wish to use that instead."
   ]
  },
  {
   "cell_type": "markdown",
   "metadata": {},
   "source": [
    "__Problem 1.__ Train a linear SVM using raw pixels as features. Plot the error rate on a validation set versus the number of training ex- amples that you used to train your classifier. Make sure you set aside 10,000 training images as a validation set. The number of training ex- amples in your experiment should be 100, 200, 500, 1,000, 2,000, 5,000, and 10,000. At this stage, you should expect accuracies between 70% and 90%.\n"
   ]
  },
  {
   "cell_type": "code",
   "execution_count": 2,
   "metadata": {
    "collapsed": false
   },
   "outputs": [],
   "source": [
    "digit_data_test = scipy.io.loadmat(\"data/digit-dataset/test.mat\")\n",
    "digit_data_train = scipy.io.loadmat(\"data/digit-dataset/train.mat\")\n",
    "\n",
    "test_img= digit_data_test['test_images']\n",
    "train_img= digit_data_train['train_images']\n",
    "train_label= digit_data_train['train_labels']"
   ]
  },
  {
   "cell_type": "code",
   "execution_count": 3,
   "metadata": {
    "collapsed": false
   },
   "outputs": [],
   "source": [
    "#Flatten the 28x28 images into 784 pixel long vectors \n",
    "train_img_flat=[]\n",
    "for i in np.arange(shape(train_img)[2]):\n",
    "    train_img_flat.append(train_img[:,:,i].flatten())\n",
    "train_img_flat1= np.array(train_img_flat)"
   ]
  },
  {
   "cell_type": "markdown",
   "metadata": {},
   "source": [
    "To debug and verify that the data partitioning is preserves a fairly uniform number of sample for each digit, I plot the histogram of the labels to visually verify that the histogram is approximately flat (i.e. uniform)."
   ]
  },
  {
   "cell_type": "code",
   "execution_count": 101,
   "metadata": {
    "collapsed": false
   },
   "outputs": [],
   "source": [
    "# num_labels = plt.hist(train_label[:,0])"
   ]
  },
  {
   "cell_type": "code",
   "execution_count": 46,
   "metadata": {
    "collapsed": false
   },
   "outputs": [
    {
     "data": {
      "text/plain": [
       "(60000, 784)"
      ]
     },
     "execution_count": 46,
     "metadata": {},
     "output_type": "execute_result"
    }
   ],
   "source": [
    "shape(train_img_flat1)"
   ]
  },
  {
   "cell_type": "code",
   "execution_count": 47,
   "metadata": {
    "collapsed": true
   },
   "outputs": [],
   "source": [
    "train_img_flat = train_img.reshape((train_img.shape[2], -1))"
   ]
  },
  {
   "cell_type": "code",
   "execution_count": 48,
   "metadata": {
    "collapsed": false
   },
   "outputs": [
    {
     "data": {
      "text/plain": [
       "(60000, 784)"
      ]
     },
     "execution_count": 48,
     "metadata": {},
     "output_type": "execute_result"
    }
   ],
   "source": [
    "shape(train_img_flat)"
   ]
  },
  {
   "cell_type": "code",
   "execution_count": 50,
   "metadata": {
    "collapsed": false
   },
   "outputs": [
    {
     "data": {
      "text/plain": [
       "array([[ True,  True,  True, ...,  True,  True,  True],\n",
       "       [ True,  True,  True, ...,  True,  True,  True],\n",
       "       [ True,  True,  True, ...,  True,  True,  True],\n",
       "       ..., \n",
       "       [ True,  True,  True, ...,  True,  True,  True],\n",
       "       [ True,  True,  True, ...,  True,  True,  True],\n",
       "       [ True,  True,  True, ...,  True,  True,  True]], dtype=bool)"
      ]
     },
     "execution_count": 50,
     "metadata": {},
     "output_type": "execute_result"
    }
   ],
   "source": [
    "train_img_flat==train_img_flat1"
   ]
  },
  {
   "cell_type": "markdown",
   "metadata": {},
   "source": [
    "Setting aside 10,000 images for validation "
   ]
  },
  {
   "cell_type": "markdown",
   "metadata": {},
   "source": [
    "Since this data is sorted , we need to pick randomly from the sample "
   ]
  },
  {
   "cell_type": "code",
   "execution_count": 51,
   "metadata": {
    "collapsed": false
   },
   "outputs": [],
   "source": [
    "#get a list of 10100 unique random numbers for indexing \n",
    "N=1000\n",
    "num_verification = 10000\n",
    "s = set()\n",
    "while len(s) < N+num_verification:\n",
    "    s.add(random.randint(60000))\n",
    "rand_idx=np.array(list(s))\n",
    "np.random.shuffle(rand_idx)"
   ]
  },
  {
   "cell_type": "code",
   "execution_count": 52,
   "metadata": {
    "collapsed": false
   },
   "outputs": [
    {
     "data": {
      "text/plain": [
       "(array([ 110.,  110.,   95.,   96.,   97.,  110.,  110.,   85.,   90.,   97.]),\n",
       " array([  3.60000000e+01,   6.02970000e+03,   1.20234000e+04,\n",
       "          1.80171000e+04,   2.40108000e+04,   3.00045000e+04,\n",
       "          3.59982000e+04,   4.19919000e+04,   4.79856000e+04,\n",
       "          5.39793000e+04,   5.99730000e+04]),\n",
       " <a list of 10 Patch objects>)"
      ]
     },
     "execution_count": 52,
     "metadata": {},
     "output_type": "execute_result"
    },
    {
     "data": {
      "image/png": "[encoded data removed]",
      "text/plain": [
       "<matplotlib.figure.Figure at 0x7f3a15490c10>"
      ]
     },
     "metadata": {},
     "output_type": "display_data"
    }
   ],
   "source": [
    "plt.hist(rand_idx[:N])"
   ]
  },
  {
   "cell_type": "code",
   "execution_count": 53,
   "metadata": {
    "collapsed": false
   },
   "outputs": [
    {
     "name": "stdout",
     "output_type": "stream",
     "text": [
      "(1000, 784)\n",
      "(1000,)\n"
     ]
    }
   ],
   "source": [
    "train_subset = []\n",
    "labels_subset = []\n",
    "for i in rand_idx[:N]:\n",
    "    train_subset.append(train_img_flat[i])\n",
    "    labels_subset.append(train_label[:,0][i])\n",
    "train_subset = np.array(train_subset)\n",
    "labels_subset = np.array(labels_subset)\n",
    "if (DEBUG) : print shape(train_subset)\n",
    "if (DEBUG) :print shape(labels_subset)"
   ]
  },
  {
   "cell_type": "code",
   "execution_count": 54,
   "metadata": {
    "collapsed": false
   },
   "outputs": [
    {
     "data": {
      "image/png": "[encoded data removed]",
      "text/plain": [
       "<matplotlib.figure.Figure at 0x7f3a017a0f90>"
      ]
     },
     "metadata": {},
     "output_type": "display_data"
    }
   ],
   "source": [
    "num_labels_subset = plt.hist(labels_subset)"
   ]
  },
  {
   "cell_type": "code",
   "execution_count": 55,
   "metadata": {
    "collapsed": false
   },
   "outputs": [
    {
     "name": "stdout",
     "output_type": "stream",
     "text": [
      "(10000, 784)\n",
      "(10000,)\n"
     ]
    }
   ],
   "source": [
    "#Creating 10000 verification subset \n",
    "verify_train_subset = []\n",
    "verify_labels_subset = []\n",
    "for i in rand_idx[N:num_verification+N]:\n",
    "    verify_train_subset.append(train_img_flat[i])\n",
    "    verify_labels_subset.append(train_label[:,0][i])\n",
    "verify_train_subset = np.array(verify_train_subset)\n",
    "verify_labels_subset = np.array(verify_labels_subset)\n",
    "if (DEBUG) : print shape(verify_train_subset)\n",
    "if (DEBUG) :print shape(verify_labels_subset)"
   ]
  },
  {
   "cell_type": "code",
   "execution_count": 56,
   "metadata": {
    "collapsed": false
   },
   "outputs": [
    {
     "data": {
      "image/png": "[encoded data removed]",
      "text/plain": [
       "<matplotlib.figure.Figure at 0x7f3a016ee790>"
      ]
     },
     "metadata": {},
     "output_type": "display_data"
    }
   ],
   "source": [
    "num_labels_verify = plt.hist(verify_labels_subset)"
   ]
  },
  {
   "cell_type": "code",
   "execution_count": 57,
   "metadata": {
    "collapsed": false
   },
   "outputs": [
    {
     "data": {
      "text/plain": [
       "LinearSVC(C=1.0, class_weight=None, dual=True, fit_intercept=True,\n",
       "     intercept_scaling=1, loss='squared_hinge', max_iter=1000,\n",
       "     multi_class='ovr', penalty='l2', random_state=None, tol=0.0001,\n",
       "     verbose=0)"
      ]
     },
     "execution_count": 57,
     "metadata": {},
     "output_type": "execute_result"
    }
   ],
   "source": [
    "clf = svm.LinearSVC()\n",
    "clf.fit(train_subset,labels_subset)"
   ]
  },
  {
   "cell_type": "code",
   "execution_count": 58,
   "metadata": {
    "collapsed": true
   },
   "outputs": [],
   "source": [
    "result = clf.predict(verify_train_subset)\n",
    "result2 = clf.predict(train_subset)"
   ]
  },
  {
   "cell_type": "code",
   "execution_count": 59,
   "metadata": {
    "collapsed": false
   },
   "outputs": [
    {
     "data": {
      "text/plain": [
       "array([0, 4, 0, ..., 6, 0, 4], dtype=uint8)"
      ]
     },
     "execution_count": 59,
     "metadata": {},
     "output_type": "execute_result"
    }
   ],
   "source": [
    "result"
   ]
  },
  {
   "cell_type": "code",
   "execution_count": 60,
   "metadata": {
    "collapsed": false
   },
   "outputs": [
    {
     "data": {
      "text/plain": [
       "(array([ 314.,   84.,   76.,   82.,   76.,   91.,   86.,   92.,   60.,   39.]),\n",
       " array([ 0. ,  0.9,  1.8,  2.7,  3.6,  4.5,  5.4,  6.3,  7.2,  8.1,  9. ]),\n",
       " <a list of 10 Patch objects>)"
      ]
     },
     "execution_count": 60,
     "metadata": {},
     "output_type": "execute_result"
    },
    {
     "data": {
      "image/png": "[encoded data removed]",
      "text/plain": [
       "<matplotlib.figure.Figure at 0x7f3a016c3a10>"
      ]
     },
     "metadata": {},
     "output_type": "display_data"
    }
   ],
   "source": [
    "plt.hist(result2)"
   ]
  },
  {
   "cell_type": "code",
   "execution_count": 61,
   "metadata": {
    "collapsed": false
   },
   "outputs": [
    {
     "data": {
      "text/plain": [
       "(array([ 3277.,  1144.,   441.,  1596.,   462.,   810.,  1134.,   539.,\n",
       "          372.,   225.]),\n",
       " array([ 0. ,  0.9,  1.8,  2.7,  3.6,  4.5,  5.4,  6.3,  7.2,  8.1,  9. ]),\n",
       " <a list of 10 Patch objects>)"
      ]
     },
     "execution_count": 61,
     "metadata": {},
     "output_type": "execute_result"
    },
    {
     "data": {
      "image/png": "[encoded data removed]",
      "text/plain": [
       "<matplotlib.figure.Figure at 0x7f3a0157f250>"
      ]
     },
     "metadata": {},
     "output_type": "display_data"
    }
   ],
   "source": [
    "plt.hist(result)"
   ]
  },
  {
   "cell_type": "code",
   "execution_count": 62,
   "metadata": {
    "collapsed": false
   },
   "outputs": [
    {
     "data": {
      "text/plain": [
       "(0.8367, (array([   0,    1,    2, ..., 9995, 9996, 9997]),))"
      ]
     },
     "execution_count": 62,
     "metadata": {},
     "output_type": "execute_result"
    }
   ],
   "source": [
    "benchmark(result,verify_labels_subset)"
   ]
  },
  {
   "cell_type": "code",
   "execution_count": 63,
   "metadata": {
    "collapsed": false
   },
   "outputs": [
    {
     "name": "stdout",
     "output_type": "stream",
     "text": [
      "(10000,)\n",
      "(10000,)\n"
     ]
    }
   ],
   "source": [
    "print shape(verify_labels_subset)\n",
    "print shape(result)"
   ]
  },
  {
   "cell_type": "code",
   "execution_count": 64,
   "metadata": {
    "collapsed": false
   },
   "outputs": [
    {
     "data": {
      "text/plain": [
       "(0, 100)"
      ]
     },
     "execution_count": 64,
     "metadata": {},
     "output_type": "execute_result"
    },
    {
     "data": {
      "image/png": "[encoded data removed]",
      "text/plain": [
       "<matplotlib.figure.Figure at 0x7f3a15655c10>"
      ]
     },
     "metadata": {},
     "output_type": "display_data"
    }
   ],
   "source": [
    "plt.plot(verify_labels_subset,'o',label=\"true\")\n",
    "plt.plot(result,'x',color=\"red\",label=\"result\")\n",
    "plt.legend()\n",
    "plt.xlim(0,100)"
   ]
  },
  {
   "cell_type": "code",
   "execution_count": 65,
   "metadata": {
    "collapsed": false,
    "scrolled": true
   },
   "outputs": [
    {
     "name": "stdout",
     "output_type": "stream",
     "text": [
      "0.8367\n"
     ]
    }
   ],
   "source": [
    "error_rate = benchmark(result,verify_labels_subset)[0]\n",
    "wrong_labels = benchmark(result,verify_labels_subset)[1][0]\n",
    "print error_rate"
   ]
  },
  {
   "cell_type": "code",
   "execution_count": 66,
   "metadata": {
    "collapsed": true
   },
   "outputs": [],
   "source": [
    "# Code written by Kunal Marwaha on Piazza\n",
    "import math\n",
    "\n",
    "#benchmark.m, converted\n",
    "def benchmark(pred_labels, true_labels):\n",
    "    errors = pred_labels != true_labels\n",
    "    err_rate = sum(errors) / float(len(true_labels))\n",
    "    indices = errors.nonzero()\n",
    "    return err_rate, indices\n",
    "\n",
    "#montage_images.m, converted\n",
    "def montage_images(images):\n",
    "    num_images=min(1000,np.size(images,2))\n",
    "    numrows=math.floor(math.sqrt(num_images))\n",
    "    numcols=math.ceil(num_images/numrows)\n",
    "    img=np.zeros((numrows*28,numcols*28));\n",
    "    for k in range(num_images):\n",
    "        r = k % numrows\n",
    "        c = k // numrows\n",
    "        img[r*28:(r+1)*28,c*28:(c+1)*28]=images[:,:,k];\n",
    "    return img"
   ]
  },
  {
   "cell_type": "code",
   "execution_count": 98,
   "metadata": {
    "collapsed": false
   },
   "outputs": [],
   "source": [
    "def q1(N,DEBUG=False):\n",
    "    #Flatten the 28x28 images into 784 pixel long vectors \n",
    "    train_img_flat = train_img.reshape((train_img.shape[2], -1))\n",
    "    #get a list of 10000+N unique random numbers for indexing \n",
    "    num_verification = 10000\n",
    "    s = set()\n",
    "    while len(s) < N+num_verification:\n",
    "        s.add(random.randint(60000))\n",
    "    rand_idx=np.array(list(s))\n",
    "    np.random.shuffle(rand_idx)\n",
    "    if (DEBUG):print len(rand_idx) \n",
    "    #Creating N number of Training set/Labels \n",
    "    train_subset = []\n",
    "    labels_subset = []\n",
    "    for i in rand_idx[:N]:\n",
    "        train_subset.append(train_img_flat[i])\n",
    "        labels_subset.append(train_label[:,0][i])\n",
    "    train_subset = np.array(train_subset)\n",
    "    labels_subset = np.array(labels_subset)\n",
    "    if (DEBUG) : print shape(train_subset)\n",
    "    if (DEBUG) :print shape(labels_subset)\n",
    "    #Creating 10000 verification subset \n",
    "    verify_train_subset = []\n",
    "    verify_labels_subset = []\n",
    "    for i in rand_idx[N:num_verification+N]:\n",
    "        verify_train_subset.append(train_img_flat[i])\n",
    "        verify_labels_subset.append(train_label[:,0][i])\n",
    "    verify_train_subset = np.array(verify_train_subset)\n",
    "    verify_labels_subset = np.array(verify_labels_subset)\n",
    "    if (DEBUG) : print shape(verify_train_subset)\n",
    "    if (DEBUG) :print shape(verify_labels_subset)\n",
    "    #Training SVM classifier\n",
    "    clf = svm.LinearSVC()\n",
    "    clf.fit(train_subset,labels_subset)\n",
    "    result = clf.predict(verify_train_subset)\n",
    "    error_rate = benchmark(result,verify_labels_subset)[0]\n",
    "    wrong_labels = benchmark(result,verify_labels_subset)[1][0]\n",
    "    print (\"N={}\".format(N))\n",
    "    conf_mat = metrics.confusion_matrix(verify_labels_subset,result)\n",
    "    print(\"Confusion matrix:\\n%s\" % conf_mat)\n",
    "    plot_confusion_matrix(conf_mat)\n",
    "    return error_rate"
   ]
  },
  {
   "cell_type": "code",
   "execution_count": 99,
   "metadata": {
    "collapsed": false,
    "scrolled": false
   },
   "outputs": [
    {
     "name": "stdout",
     "output_type": "stream",
     "text": [
      "N=100\n",
      "Confusion matrix:\n",
      "[[  1  14   4   2   7   1  17   9  33 921]\n",
      " [ 13  72  57  26  74  16  78  79 153 540]\n",
      " [  4  44  86  42 116  63  92 101 147 309]\n",
      " [  5  36  74  36 115  62 105 100 190 296]\n",
      " [  8  66  76  32  92  75  98  80 163 280]\n",
      " [  3  44  77  31  75 110  92  97 147 205]\n",
      " [  7  51  90  32 121  76 105 103 159 280]\n",
      " [  3  59  78  41 118  73  89  96 160 286]\n",
      " [  3  73  74  39  74  15  83  91 140 388]\n",
      " [  7  55  23  11  28   3  29  37  72 737]]\n",
      "N=200\n",
      "Confusion matrix:\n",
      "[[885  31   9   5  11   5  11   7   6  14]\n",
      " [507 119  64  34  99  40  72  72  54  54]\n",
      " [249  75  57  51 121  60 134  84  72  41]\n",
      " [237  97  62  58 140  50 116 101  77  57]\n",
      " [260 121  56  50 110  58 127 108  50  47]\n",
      " [187  77  52  92 142  58 103  96  61  41]\n",
      " [277 103  71  65 135  52 118 121  59  56]\n",
      " [277  98  68  75 137  53 137 101  53  45]\n",
      " [384  88  59  46 100  42  87  67  61  45]\n",
      " [686  72  24  17  27  10  45  33  37  35]]\n",
      "N=500\n",
      "Confusion matrix:\n",
      "[[ 10  28  20   3  14   5  26  53  11 835]\n",
      " [ 19 114  59  46  56  29 123 171  38 468]\n",
      " [  9  75  82  52  70  78 136 193  47 221]\n",
      " [  8  86  77  52  88  61 180 216  35 217]\n",
      " [ 17  73  69  53  92  63 153 208  48 250]\n",
      " [ 10  74  70  44  65  91 141 181  47 165]\n",
      " [  6  68  77  38  72  57 149 244  45 221]\n",
      " [ 13  61  69  53  78  88 185 215  48 239]\n",
      " [ 14  87  50  25  64  29 126 189  45 314]\n",
      " [ 18  64  28  13  32   8  66  96  22 659]]\n",
      "N=1000\n",
      "Confusion matrix:\n",
      "[[885  16  10  37   4   6   5  33   8  16]\n",
      " [416  88  58 212  48  46  16 158  41  44]\n",
      " [206  81  78 211  82  56  21 168  35  38]\n",
      " [175 104  65 251  80  86  39 179  47  37]\n",
      " [211  70  59 242  86  78  34 148  34  40]\n",
      " [130  68  76 224  86  77  33 137  38  32]\n",
      " [168  90  69 216  98  71  23 180  38  49]\n",
      " [215  88  73 227  82  81  25 148  34  30]\n",
      " [290  76  51 178  42  40  23 133  39  42]\n",
      " [590  57  29 135  30  21  12  64  21  33]]\n",
      "N=2000\n",
      "Confusion matrix:\n",
      "[[791  29   9  34  11  11   7  48  17   3]\n",
      " [414  74  52 133  72  78  37 186  78  24]\n",
      " [169  62  79 137  54 114  66 196  63  14]\n",
      " [162  84  83 136  85 107  69 199  50  15]\n",
      " [193  58  63 129  51  79  67 199  66  14]\n",
      " [140  66  94 136  73 105  81 215  65  10]\n",
      " [158  74  74 140  82  93  62 214  75  13]\n",
      " [198  81  66 159  92 117  69 229  61  19]\n",
      " [269  61  43 107  63  71  36 192  61  14]\n",
      " [624  59  22  80  37  36  16 121  41  15]]\n",
      "N=5000\n",
      "Confusion matrix:\n",
      "[[885  23   5   7   8   8  11  10  14  43]\n",
      " [442 100  60  32  57  68  64  81  65 182]\n",
      " [229  77  51  33  64  96  95 168  75 103]\n",
      " [183  73  59  50  77 119 104 187  76 114]\n",
      " [201  82  61  36  50  94  81 147  64 129]\n",
      " [124  75  64  32  74 112  96 172  62  87]\n",
      " [197  69  61  35  76  89  89 153  77 110]\n",
      " [233  87  62  44  67  92 107 172  64 127]\n",
      " [319  70  51  37  60  63  75 101  57 125]\n",
      " [626  56  25  20  26  27  20  24  49 117]]\n"
     ]
    },
    {
     "data": {
      "image/png": "[encoded data removed]",
      "text/plain": [
       "<matplotlib.figure.Figure at 0x7f3a01442f90>"
      ]
     },
     "metadata": {},
     "output_type": "display_data"
    },
    {
     "data": {
      "image/png": "[encoded data removed]",
      "text/plain": [
       "<matplotlib.figure.Figure at 0x7f3a01121b50>"
      ]
     },
     "metadata": {},
     "output_type": "display_data"
    },
    {
     "data": {
      "image/png": "[encoded data removed]",
      "text/plain": [
       "<matplotlib.figure.Figure at 0x7f3a01170e10>"
      ]
     },
     "metadata": {},
     "output_type": "display_data"
    },
    {
     "data": {
      "image/png": "[encoded data removed]",
      "text/plain": [
       "<matplotlib.figure.Figure at 0x7f3a152cd810>"
      ]
     },
     "metadata": {},
     "output_type": "display_data"
    },
    {
     "data": {
      "image/png": "[encoded data removed]",
      "text/plain": [
       "<matplotlib.figure.Figure at 0x7f3a15203590>"
      ]
     },
     "metadata": {},
     "output_type": "display_data"
    },
    {
     "data": {
      "image/png": "[encoded data removed]",
      "text/plain": [
       "<matplotlib.figure.Figure at 0x7f3a00d97b10>"
      ]
     },
     "metadata": {},
     "output_type": "display_data"
    }
   ],
   "source": [
    "err_lst = []\n",
    "trainset_size = [100, 200, 500, 1000, 2000, 5000]\n",
    "for i in trainset_size:\n",
    "    err_lst.append(q1(i))"
   ]
  },
  {
   "cell_type": "code",
   "execution_count": 71,
   "metadata": {
    "collapsed": false
   },
   "outputs": [
    {
     "data": {
      "text/plain": [
       "<matplotlib.text.Text at 0x7f3a0ffaaa10>"
      ]
     },
     "execution_count": 71,
     "metadata": {},
     "output_type": "execute_result"
    },
    {
     "data": {
      "image/png": "[encoded data removed]",
      "text/plain": [
       "<matplotlib.figure.Figure at 0x7f3a15770310>"
      ]
     },
     "metadata": {},
     "output_type": "display_data"
    }
   ],
   "source": [
    "plt.plot(trainset_size,err_lst,'o')\n",
    "plt.plot(trainset_size,err_lst,'-')\n",
    "plt.xlabel(\"Train set size\",fontsize=14)\n",
    "plt.ylabel(\"Error rate\",fontsize=14)"
   ]
  },
  {
   "cell_type": "code",
   "execution_count": 76,
   "metadata": {
    "collapsed": false
   },
   "outputs": [
    {
     "data": {
      "text/plain": [
       "<matplotlib.text.Text at 0x7f3a10085610>"
      ]
     },
     "execution_count": 76,
     "metadata": {},
     "output_type": "execute_result"
    },
    {
     "data": {
      "image/png": "[encoded data removed]",
      "text/plain": [
       "<matplotlib.figure.Figure at 0x7f3a10193610>"
      ]
     },
     "metadata": {},
     "output_type": "display_data"
    }
   ],
   "source": [
    "plt.plot(trainset_size,err_lst,'o')\n",
    "plt.plot(trainset_size,err_lst,'-')\n",
    "plt.xlabel(\"Train set size\",fontsize=14)\n",
    "plt.ylabel(\"Error rate\",fontsize=14)"
   ]
  },
  {
   "cell_type": "code",
   "execution_count": 77,
   "metadata": {
    "collapsed": false
   },
   "outputs": [
    {
     "data": {
      "text/plain": [
       "<matplotlib.text.Text at 0x7f3a1029c410>"
      ]
     },
     "execution_count": 77,
     "metadata": {},
     "output_type": "execute_result"
    },
    {
     "data": {
      "image/png": "[encoded data removed]",
      "text/plain": [
       "<matplotlib.figure.Figure at 0x7f3a1017c950>"
      ]
     },
     "metadata": {},
     "output_type": "display_data"
    }
   ],
   "source": [
    "err_lst = []\n",
    "trainset_size = [100, 200, 500, 1000, 2000, 5000]\n",
    "for i in trainset_size:\n",
    "    err_lst.append(q1(i))\n",
    "plt.plot(trainset_size,err_lst,'o')\n",
    "plt.plot(trainset_size,err_lst,'-')\n",
    "plt.xlabel(\"Train set size\",fontsize=14)\n",
    "plt.ylabel(\"Error rate\",fontsize=14)"
   ]
  },
  {
   "cell_type": "markdown",
   "metadata": {},
   "source": [
    "__Problem 2.__ Create confusion matrices2 for each experiment in Problem 1. Color code and report your results. You may use built-in implementations to generate confusion matrices. What insights can you get about the performance of your algorithm from looking at the confusion matrix?"
   ]
  },
  {
   "cell_type": "code",
   "execution_count": 82,
   "metadata": {
    "collapsed": false
   },
   "outputs": [
    {
     "name": "stdout",
     "output_type": "stream",
     "text": [
      "Confusion matrix:\n",
      "[[809  40  11  50  11  11  30   2   9  12]\n",
      " [395 128  43 175  44  61 139  43  36  23]\n",
      " [191 109  46 184  48 110 119  65  47  18]\n",
      " [183 141  61 210  75 111 138  63  43  21]\n",
      " [232 119  54 171  50  95 122  75  60  24]\n",
      " [150  95  47 160  60 109 120  85  33  24]\n",
      " [159 124  64 175  57 112 132  72  42  19]\n",
      " [222 134  58 192  46 105 153  81  40  26]\n",
      " [285 144  41 160  51  67 116  39  42  32]\n",
      " [651 110  16 119  20  29  65  14  20  26]]\n"
     ]
    }
   ],
   "source": [
    "from sklearn import metrics\n",
    "print(\"Confusion matrix:\\n%s\" % metrics.confusion_matrix(verify_labels_subset,result))"
   ]
  },
  {
   "cell_type": "code",
   "execution_count": 100,
   "metadata": {
    "collapsed": false
   },
   "outputs": [],
   "source": [
    "from sklearn import metrics\n",
    "def plot_confusion_matrix(conf_mat, title='Confusion matrix'):\n",
    "    plt.figure()\n",
    "    plt.imshow(conf_mat, interpolation='nearest', cmap= plt.cm.YlOrRd)\n",
    "    plt.title(title)\n",
    "    plt.colorbar()\n",
    "    tick_marks = np.arange(10)\n",
    "    plt.xticks(tick_marks, tick_marks, rotation=45)\n",
    "    plt.yticks(tick_marks, tick_marks)\n",
    "    plt.tight_layout()\n",
    "    plt.ylabel('True label')\n",
    "    plt.xlabel('Predicted label')"
   ]
  },
  {
   "cell_type": "markdown",
   "metadata": {},
   "source": [
    "__Problem 3.__ Explain why cross-validation helps. Implement cross- validation5 and find the optimal value of the parameter C using 10- fold cross-validation on the training set with 10,000 examples. Train a linear SVM with this value of C. Please report your C value, the validation error rate, and your Kaggle score. If you used additional features, please (briefly) describe what features you added, removed, or modified.\n",
    "\n",
    "Cross validation is important because often we have a machine learning model that depends on some parameter that we want to tune to optimize (speed, accuracy ..etc) . So cross validation splits up our sample so that we can conduct these experiments with different values of the model parameter and then it returns a score computed from the  mean squared error that enable us to evaluate whether that is a good value to use for the model or find the best parameter that gives the most accurate result."
   ]
  },
  {
   "cell_type": "code",
   "execution_count": 4,
   "metadata": {
    "collapsed": false
   },
   "outputs": [
    {
     "data": {
      "text/plain": [
       "(60000, 784)"
      ]
     },
     "execution_count": 4,
     "metadata": {},
     "output_type": "execute_result"
    }
   ],
   "source": [
    "shape(train_img_flat)"
   ]
  },
  {
   "cell_type": "code",
   "execution_count": 5,
   "metadata": {
    "collapsed": true
   },
   "outputs": [],
   "source": [
    "N_total = 10000\n",
    "data = train_img_flat[:N_total]"
   ]
  },
  {
   "cell_type": "code",
   "execution_count": 26,
   "metadata": {
    "collapsed": false
   },
   "outputs": [
    {
     "name": "stdout",
     "output_type": "stream",
     "text": [
      "1000\n"
     ]
    }
   ],
   "source": [
    "k=10\n",
    "batch_size =shape(data)[0]/k\n",
    "print batch_size"
   ]
  },
  {
   "cell_type": "code",
   "execution_count": 27,
   "metadata": {
    "collapsed": false
   },
   "outputs": [],
   "source": [
    "s = set()\n",
    "while len(s) < N_total:\n",
    "    s.add(random.randint(60000))\n",
    "rand_idx=np.array(list(s))\n",
    "np.random.shuffle(rand_idx)"
   ]
  },
  {
   "cell_type": "code",
   "execution_count": 28,
   "metadata": {
    "collapsed": false
   },
   "outputs": [
    {
     "data": {
      "text/plain": [
       "(10000,)"
      ]
     },
     "execution_count": 28,
     "metadata": {},
     "output_type": "execute_result"
    }
   ],
   "source": [
    "shape(rand_idx)"
   ]
  },
  {
   "cell_type": "code",
   "execution_count": 31,
   "metadata": {
    "collapsed": false
   },
   "outputs": [],
   "source": [
    "mega_train_subset=[]\n",
    "mega_labels_subset=[]\n",
    "for i in np.arange(k)+1:\n",
    "#     print \"Batch {}\".format(i)\n",
    "    train_subset = []\n",
    "    labels_subset = []\n",
    "#     print (i-1)*batch_size\n",
    "#     print i*batch_size\n",
    "#     print shape(rand_idx[(i-1)*batch_size:i*batch_size])\n",
    "    for idx in rand_idx[(i-1)*batch_size:i*batch_size]:\n",
    "        train_subset.append(train_img_flat[idx])\n",
    "        labels_subset.append(train_label[:,0][idx])\n",
    "    train_subset = np.array(train_subset)\n",
    "    labels_subset = np.array(labels_subset)\n",
    "#     print shape(train_subset)\n",
    "    mega_train_subset.append(train_subset)\n",
    "    mega_labels_subset.append(labels_subset)\n",
    "mega_train_subset = np.array(mega_train_subset)\n",
    "mega_labels_subset = np.array(mega_labels_subset)"
   ]
  },
  {
   "cell_type": "code",
   "execution_count": 32,
   "metadata": {
    "collapsed": false
   },
   "outputs": [
    {
     "name": "stdout",
     "output_type": "stream",
     "text": [
      "(10, 1000, 784)\n",
      "(10, 1000)\n"
     ]
    }
   ],
   "source": [
    "print shape(mega_train_subset)\n",
    "print shape(mega_labels_subset)"
   ]
  },
  {
   "cell_type": "code",
   "execution_count": 44,
   "metadata": {
    "collapsed": false
   },
   "outputs": [
    {
     "data": {
      "text/plain": [
       "array([1, 2, 3, 5])"
      ]
     },
     "execution_count": 44,
     "metadata": {},
     "output_type": "execute_result"
    }
   ],
   "source": [
    "l = np.array([1,2,3,4,5])\n",
    "k=4\n",
    "np.append(l[:k-1],l[k:])"
   ]
  },
  {
   "cell_type": "code",
   "execution_count": 66,
   "metadata": {
    "collapsed": false
   },
   "outputs": [
    {
     "data": {
      "text/plain": [
       "9000"
      ]
     },
     "execution_count": 66,
     "metadata": {},
     "output_type": "execute_result"
    }
   ],
   "source": [
    "shape(a)[0]*batch_size"
   ]
  },
  {
   "cell_type": "code",
   "execution_count": 67,
   "metadata": {
    "collapsed": false
   },
   "outputs": [
    {
     "data": {
      "text/plain": [
       "1000"
      ]
     },
     "execution_count": 67,
     "metadata": {},
     "output_type": "execute_result"
    }
   ],
   "source": [
    "shape(a)[1]"
   ]
  },
  {
   "cell_type": "code",
   "execution_count": 75,
   "metadata": {
    "collapsed": false
   },
   "outputs": [
    {
     "name": "stdout",
     "output_type": "stream",
     "text": [
      "(10, 1000, 784)\n",
      "(1000, 784)\n",
      "(4, 1000, 784)\n",
      "(5, 1000, 784)\n",
      "(9, 1000, 784)\n",
      "after:  (9000, 784)\n",
      "(9, 1000)\n",
      "after:  (9000,)\n"
     ]
    }
   ],
   "source": [
    "k_th_set= 5\n",
    "print shape(mega_train_subset)\n",
    "print shape(mega_train_subset[1,:,:])\n",
    "print shape(mega_train_subset[:k_th_set-1,:,:])\n",
    "print shape(mega_train_subset[k_th_set:,:,:])\n",
    "a =np.concatenate((mega_train_subset[:k_th_set-1,:,:],mega_train_subset[k_th_set:,:,:]))\n",
    "print shape(a)\n",
    "a =  a.reshape((shape(a)[0]*batch_size,shape(a)[2]))\n",
    "# a.reshape((9000,784))\n",
    "print \"after: \",shape(a)\n",
    "b = np.concatenate((mega_labels_subset[:k_th_set-1],mega_labels_subset[k_th_set:]))\n",
    "print shape(b)\n",
    "# b = b.reshape((9000,))\n",
    "b = b.reshape((shape(b)[0]*batch_size,))\n",
    "print \"after: \",shape(b)"
   ]
  },
  {
   "cell_type": "code",
   "execution_count": 84,
   "metadata": {
    "collapsed": false
   },
   "outputs": [
    {
     "name": "stdout",
     "output_type": "stream",
     "text": [
      "Testing C=1\n",
      "1.301\n",
      "1.162\n",
      "1.136\n",
      "1.736\n",
      "average mse:  1.33375\n",
      "Testing C=10\n",
      "1.601\n",
      "1.721\n",
      "1.268\n",
      "1.493\n",
      "average mse:  1.52075\n",
      "Testing C=100\n",
      "1.347\n",
      "1.323\n",
      "1.51\n",
      "1.247\n",
      "average mse:  1.35675\n",
      "Testing C=1000\n",
      "1.307\n",
      "1.64\n",
      "1.535\n",
      "1.383\n",
      "average mse:  1.46625\n"
     ]
    }
   ],
   "source": [
    "import sklearn.metrics\n",
    "mse_lst_for_diff_C = []\n",
    "C_list = [1,10,100,1000] \n",
    "for c in C_list:\n",
    "    print \"Testing C={}\".format(c)\n",
    "    mse_err_lst=[]\n",
    "    for k_th_set in np.arange(k)+1:\n",
    "        #selecting the kth element for verification set\n",
    "        verify_data = mega_train_subset[k_th_set]\n",
    "        verify_labels = mega_labels_subset[k_th_set]\n",
    "        #select only the ones EXCLUDING the kth element for training\n",
    "        train_data = np.concatenate((mega_train_subset[:k_th_set-1,:,:],mega_train_subset[k_th_set:,:,:]))\n",
    "        #Merging all the kth batches into one large datafile \n",
    "        train_data =  train_data.reshape((shape( train_data)[0]*batch_size,shape(train_data)[2]))\n",
    "        train_labels = np.concatenate((mega_labels_subset[:k_th_set-1],mega_labels_subset[k_th_set:]))\n",
    "        train_labels = train_labels.reshape((shape(train_labels)[0]*batch_size,))\n",
    "#         print shape(train_labels)[0]*batch_size\n",
    "#         print shape(train_data)\n",
    "#         print shape(train_labels)\n",
    "        clf = svm.LinearSVC(C=c)\n",
    "        clf.fit(train_data,train_labels)\n",
    "        result = clf.predict(verify_data)\n",
    "        mse= sklearn.metrics.mean_squared_error(verify_labels, result)\n",
    "        print mse\n",
    "        mse_err_lst.append(mse)\n",
    "    print \"average mse: \", mean(mse_err_lst)\n",
    "    mse_lst_for_diff_C.append(mean(mse_err_lst))"
   ]
  },
  {
   "cell_type": "code",
   "execution_count": 88,
   "metadata": {
    "collapsed": false
   },
   "outputs": [
    {
     "data": {
      "text/plain": [
       "[<matplotlib.lines.Line2D at 0x7f78e6709f90>]"
      ]
     },
     "execution_count": 88,
     "metadata": {},
     "output_type": "execute_result"
    },
    {
     "data": {
      "image/png": "[encoded data removed]",
      "text/plain": [
       "<matplotlib.figure.Figure at 0x7f78e46598d0>"
      ]
     },
     "metadata": {},
     "output_type": "display_data"
    }
   ],
   "source": [
    "plt.semilogx(C_list,mse_lst_for_diff_C,'o')\n",
    "plt.semilogx(C_list,mse_lst_for_diff_C,'-')"
   ]
  },
  {
   "cell_type": "code",
   "execution_count": 39,
   "metadata": {
    "collapsed": false
   },
   "outputs": [
    {
     "ename": "AttributeError",
     "evalue": "'module' object has no attribute 'score'",
     "output_type": "error",
     "traceback": [
      "\u001b[1;31m---------------------------------------------------------------------------\u001b[0m",
      "\u001b[1;31mAttributeError\u001b[0m                            Traceback (most recent call last)",
      "\u001b[1;32m<ipython-input-39-f90481ed696e>\u001b[0m in \u001b[0;36m<module>\u001b[1;34m()\u001b[0m\n\u001b[1;32m----> 1\u001b[1;33m \u001b[0msklearn\u001b[0m\u001b[1;33m.\u001b[0m\u001b[0msvm\u001b[0m\u001b[1;33m.\u001b[0m\u001b[0mscore\u001b[0m\u001b[1;33m\u001b[0m\u001b[0m\n\u001b[0m",
      "\u001b[1;31mAttributeError\u001b[0m: 'module' object has no attribute 'score'"
     ]
    }
   ],
   "source": [
    "# sklearn.metrics.mean_squared_error(y_true, y_pred)"
   ]
  },
  {
   "cell_type": "code",
   "execution_count": null,
   "metadata": {
    "collapsed": true
   },
   "outputs": [],
   "source": [
    "def benchmark(pred_labels, true_labels):\n",
    "    errors = pred_labels != true_labels\n",
    "    err_rate = sum(errors) / float(len(true_labels))\n",
    "    indices = errors.nonzero()\n",
    "    return err_rate, indices"
   ]
  },
  {
   "cell_type": "markdown",
   "metadata": {},
   "source": [
    "#References\n",
    "\n",
    "- \"1.4. Support Vector Machines.\" 1.4. Support Vector Machines — _Scikit-learn 0.17 Documentation_. N.p., n.d. Web. 01 Feb. 2016.\n",
    "- Markham, Kevin. \"Simple Guide to Confusion Matrix Terminology.\" _Data School_. N.p., 25 Mar. 2014. Web. 01 Feb. 2016.\n",
    "- \"Confusion Matrix.\" Confusion Matrix — _Scikit-learn 0.17 Documentation_. N.p., n.d. Web. 02 Feb. 2016.\n",
    "- James, Gareth, Daniela Witten, Trevor Hastie, and Robert Tibshirani. \"Chapter 5 Resampling Methods.\" _An Introduction to Statistical Learning: With Applications in R_. N.p.: Springer, n.d. 180-83. Print."
   ]
  },
  {
   "cell_type": "code",
   "execution_count": null,
   "metadata": {
    "collapsed": true
   },
   "outputs": [],
   "source": []
  }
 ],
 "metadata": {
  "kernelspec": {
   "display_name": "Python 2",
   "language": "python",
   "name": "python2"
  },
  "language_info": {
   "codemirror_mode": {
    "name": "ipython",
    "version": 2
   },
   "file_extension": ".py",
   "mimetype": "text/x-python",
   "name": "python",
   "nbconvert_exporter": "python",
   "pygments_lexer": "ipython2",
   "version": "2.7.10"
  }
 },
 "nbformat": 4,
 "nbformat_minor": 0
}
