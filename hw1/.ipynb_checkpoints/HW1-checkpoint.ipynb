{
 "cells": [
  {
   "cell_type": "code",
   "execution_count": 2,
   "metadata": {
    "collapsed": false
   },
   "outputs": [
    {
     "name": "stdout",
     "output_type": "stream",
     "text": [
      "Populating the interactive namespace from numpy and matplotlib\n"
     ]
    }
   ],
   "source": [
    "%pylab inline"
   ]
  },
  {
   "cell_type": "code",
   "execution_count": 115,
   "metadata": {
    "collapsed": false
   },
   "outputs": [],
   "source": [
    "import scipy.io\n",
    "from sklearn import svm\n",
    "DEBUG=True"
   ]
  },
  {
   "cell_type": "raw",
   "metadata": {},
   "source": [
    "This will be used for Problems 1, 2, and 3. We have provided the following files:\n",
    "• train.mat - This file contains 60,000 digit images for training and their respective labels.\n",
    "• test.mat - This file contains 10,000 digit images without labels. This will be used for Kaggle.\n",
    "In addition to the dataset, we have provided two MATLAB func- tions in the code directory. benchmark.m will take in the predicted labels and true labels and return the error rate, as well as the indices of the incorrect labels. montage_images.m will produce a montage of a set of images. You can use this to visualize digits that you classify\n",
    "homework 1: support vector machines 5incorrectly. Both files are easily translatable into Python/NumPy if you wish to use that instead."
   ]
  },
  {
   "cell_type": "markdown",
   "metadata": {},
   "source": [
    "Problem 1. Train a linear SVM using raw pixels as features. Plot the error rate on a validation set versus the number of training ex- amples that you used to train your classifier. Make sure you set aside 10,000 training images as a validation set. The number of training ex- amples in your experiment should be 100, 200, 500, 1,000, 2,000, 5,000, and 10,000. At this stage, you should expect accuracies between 70% and 90%.\n"
   ]
  },
  {
   "cell_type": "code",
   "execution_count": 5,
   "metadata": {
    "collapsed": false
   },
   "outputs": [],
   "source": [
    "digit_data_test = scipy.io.loadmat(\"data/digit-dataset/test.mat\")\n",
    "digit_data_train = scipy.io.loadmat(\"data/digit-dataset/train.mat\")\n",
    "\n",
    "test_img= digit_data_test['test_images']\n",
    "train_img= digit_data_train['train_images']\n",
    "train_label= digit_data_train['train_labels']"
   ]
  },
  {
   "cell_type": "code",
   "execution_count": 81,
   "metadata": {
    "collapsed": false
   },
   "outputs": [],
   "source": [
    "#Flatten the 28x28 images into 784 pixel long vectors \n",
    "train_img_flat=[]\n",
    "for i in np.arange(shape(train_img)[2]):\n",
    "    train_img_flat.append(train_img[:,:,1].flatten())\n",
    "train_img_flat= np.array(train_img_flat)"
   ]
  },
  {
   "cell_type": "markdown",
   "metadata": {},
   "source": [
    "Setting aside 10,000 images for validation "
   ]
  },
  {
   "cell_type": "markdown",
   "metadata": {},
   "source": [
    "Since this data is sorted , we need to pick randomly from the sample "
   ]
  },
  {
   "cell_type": "code",
   "execution_count": 110,
   "metadata": {
    "collapsed": false
   },
   "outputs": [],
   "source": [
    "#get a list of 10100 unique random numbers for indexing \n",
    "N=100\n",
    "num_verification = 10000\n",
    "s = set()\n",
    "while len(s) < N+num_verification:\n",
    "    s.add(random.randint(60000))\n",
    "rand_idx=np.array(list(s))"
   ]
  },
  {
   "cell_type": "code",
   "execution_count": 117,
   "metadata": {
    "collapsed": false
   },
   "outputs": [
    {
     "name": "stdout",
     "output_type": "stream",
     "text": [
      "(100, 784)\n",
      "(100,)\n"
     ]
    }
   ],
   "source": [
    "train_subset = []\n",
    "labels_subset = []\n",
    "for i in rand_idx[:N]:\n",
    "    train_subset.append(train_img_flat[i])\n",
    "    labels_subset.append(train_label[:,0][i])\n",
    "train_subset = np.array(train_subset)\n",
    "labels_subset = np.array(labels_subset)\n",
    "if (DEBUG) : print shape(train_subset)\n",
    "if (DEBUG) :print shape(labels_subset)"
   ]
  },
  {
   "cell_type": "code",
   "execution_count": 120,
   "metadata": {
    "collapsed": false
   },
   "outputs": [
    {
     "name": "stdout",
     "output_type": "stream",
     "text": [
      "(10000, 784)\n",
      "(10000,)\n"
     ]
    }
   ],
   "source": [
    "#Creating 10000 verification subset \n",
    "verify_train_subset = []\n",
    "verify_labels_subset = []\n",
    "for i in rand_idx[N:num_verification+N]:\n",
    "    verify_train_subset.append(train_img_flat[i])\n",
    "    verify_labels_subset.append(train_label[:,0][i])\n",
    "verify_train_subset = np.array(verify_train_subset)\n",
    "verify_labels_subset = np.array(verify_labels_subset)\n",
    "if (DEBUG) : print shape(verify_train_subset)\n",
    "if (DEBUG) :print shape(verify_labels_subset)"
   ]
  },
  {
   "cell_type": "code",
   "execution_count": 125,
   "metadata": {
    "collapsed": false
   },
   "outputs": [],
   "source": [
    "clf = svm.LinearSVC()\n",
    "clf.fit(train_subset,labels_subset)\n",
    "result = clf.predict(verify_train_subset)"
   ]
  },
  {
   "cell_type": "code",
   "execution_count": 149,
   "metadata": {
    "collapsed": false
   },
   "outputs": [
    {
     "name": "stdout",
     "output_type": "stream",
     "text": [
      "0.9037\n"
     ]
    }
   ],
   "source": [
    "error_rate = benchmark(result,verify_labels_subset)[0]\n",
    "wrong_labels = benchmark(result,verify_labels_subset)[1][0]\n",
    "print error_rate"
   ]
  },
  {
   "cell_type": "code",
   "execution_count": 17,
   "metadata": {
    "collapsed": true
   },
   "outputs": [],
   "source": [
    "# Code written by Kunal Marwaha on Piazza\n",
    "import math\n",
    "\n",
    "#benchmark.m, converted\n",
    "def benchmark(pred_labels, true_labels):\n",
    "    errors = pred_labels != true_labels\n",
    "    err_rate = sum(errors) / float(len(true_labels))\n",
    "    indices = errors.nonzero()\n",
    "    return err_rate, indices\n",
    "\n",
    "#montage_images.m, converted\n",
    "def montage_images(images):\n",
    "    num_images=min(1000,np.size(images,2))\n",
    "    numrows=math.floor(math.sqrt(num_images))\n",
    "    numcols=math.ceil(num_images/numrows)\n",
    "    img=np.zeros((numrows*28,numcols*28));\n",
    "    for k in range(num_images):\n",
    "        r = k % numrows\n",
    "        c = k // numrows\n",
    "        img[r*28:(r+1)*28,c*28:(c+1)*28]=images[:,:,k];\n",
    "    return img"
   ]
  },
  {
   "cell_type": "code",
   "execution_count": 150,
   "metadata": {
    "collapsed": false
   },
   "outputs": [],
   "source": [
    "# print wrong_labels\n",
    "# i=9\n",
    "# print verify_labels_subset[i]\n",
    "# print result[i]"
   ]
  },
  {
   "cell_type": "code",
   "execution_count": 39,
   "metadata": {
    "collapsed": false
   },
   "outputs": [
    {
     "name": "stdout",
     "output_type": "stream",
     "text": [
      "(2, 3)\n",
      "(2,)\n"
     ]
    }
   ],
   "source": [
    "print shape(X)\n",
    "print shape(y)"
   ]
  },
  {
   "cell_type": "code",
   "execution_count": 40,
   "metadata": {
    "collapsed": false
   },
   "outputs": [
    {
     "data": {
      "text/plain": [
       "SVC(C=1.0, cache_size=200, class_weight=None, coef0=0.0, degree=3, gamma=0.0,\n",
       "  kernel='rbf', max_iter=-1, probability=False, random_state=None,\n",
       "  shrinking=True, tol=0.001, verbose=False)"
      ]
     },
     "execution_count": 40,
     "metadata": {},
     "output_type": "execute_result"
    }
   ],
   "source": [
    "X = [[0, 0,0], [1, 1,1]]\n",
    "y = [0, 1]\n",
    "clf = svm.SVC()\n",
    "clf.fit(X, y)  "
   ]
  },
  {
   "cell_type": "code",
   "execution_count": 155,
   "metadata": {
    "collapsed": false
   },
   "outputs": [],
   "source": [
    "def q1(N,DEBUG=False):\n",
    "    #Flatten the 28x28 images into 784 pixel long vectors \n",
    "    train_img_flat=[]\n",
    "    for i in np.arange(shape(train_img)[2]):\n",
    "        train_img_flat.append(train_img[:,:,1].flatten())\n",
    "    train_img_flat= np.array(train_img_flat)\n",
    "    #get a list of 10100 unique random numbers for indexing \n",
    "    num_verification = 10000\n",
    "    s = set()\n",
    "    while len(s) < N+num_verification:\n",
    "        s.add(random.randint(60000))\n",
    "    rand_idx=np.array(list(s))\n",
    "    #Creating N number of Training set/Labels \n",
    "    train_subset = []\n",
    "    labels_subset = []\n",
    "    for i in rand_idx[:N]:\n",
    "        train_subset.append(train_img_flat[i])\n",
    "        labels_subset.append(train_label[:,0][i])\n",
    "    train_subset = np.array(train_subset)\n",
    "    labels_subset = np.array(labels_subset)\n",
    "    if (DEBUG) : print shape(train_subset)\n",
    "    if (DEBUG) :print shape(labels_subset)\n",
    "    #Creating 10000 verification subset \n",
    "    verify_train_subset = []\n",
    "    verify_labels_subset = []\n",
    "    for i in rand_idx[N:num_verification+N]:\n",
    "        verify_train_subset.append(train_img_flat[i])\n",
    "        verify_labels_subset.append(train_label[:,0][i])\n",
    "    verify_train_subset = np.array(verify_train_subset)\n",
    "    verify_labels_subset = np.array(verify_labels_subset)\n",
    "    if (DEBUG) : print shape(verify_train_subset)\n",
    "    if (DEBUG) :print shape(verify_labels_subset)\n",
    "    #Training SVM classifier\n",
    "    clf = svm.LinearSVC()\n",
    "    clf.fit(train_subset,labels_subset)\n",
    "    result = clf.predict(verify_train_subset)\n",
    "    error_rate = benchmark(result,verify_labels_subset)[0]\n",
    "    wrong_labels = benchmark(result,verify_labels_subset)[1][0]\n",
    "    return error_rate"
   ]
  },
  {
   "cell_type": "code",
   "execution_count": 158,
   "metadata": {
    "collapsed": false
   },
   "outputs": [],
   "source": [
    "err_lst = []\n",
    "trainset_size = [100, 200, 500, 1000, 2000, 5000]\n",
    "for i in trainset_size:\n",
    "    err_lst.append(q1(i))"
   ]
  },
  {
   "cell_type": "code",
   "execution_count": 162,
   "metadata": {
    "collapsed": false
   },
   "outputs": [
    {
     "data": {
      "text/plain": [
       "<matplotlib.text.Text at 0x7fc5a7fc5490>"
      ]
     },
     "execution_count": 162,
     "metadata": {},
     "output_type": "execute_result"
    },
    {
     "data": {
      "image/png": "[encoded data removed]",
      "text/plain": [
       "<matplotlib.figure.Figure at 0x7fc5a7fde490>"
      ]
     },
     "metadata": {},
     "output_type": "display_data"
    }
   ],
   "source": [
    "plt.plot(trainset_size,err_lst,'o')\n",
    "plt.plot(trainset_size,err_lst,'-')\n",
    "plt.xlabel(\"Train set size\",fontsize=14)\n",
    "plt.ylabel(\"Error rate\",fontsize=14)"
   ]
  },
  {
   "cell_type": "markdown",
   "metadata": {},
   "source": [
    "#References\n",
    "\n",
    "- \"1.4. Support Vector Machines.\" 1.4. Support Vector Machines — Scikit-learn 0.17 Documentation. N.p., n.d. Web. 01 Feb. 2016."
   ]
  },
  {
   "cell_type": "code",
   "execution_count": null,
   "metadata": {
    "collapsed": true
   },
   "outputs": [],
   "source": []
  }
 ],
 "metadata": {
  "kernelspec": {
   "display_name": "Python 2",
   "language": "python",
   "name": "python2"
  },
  "language_info": {
   "codemirror_mode": {
    "name": "ipython",
    "version": 2
   },
   "file_extension": ".py",
   "mimetype": "text/x-python",
   "name": "python",
   "nbconvert_exporter": "python",
   "pygments_lexer": "ipython2",
   "version": "2.7.10"
  }
 },
 "nbformat": 4,
 "nbformat_minor": 0
}
