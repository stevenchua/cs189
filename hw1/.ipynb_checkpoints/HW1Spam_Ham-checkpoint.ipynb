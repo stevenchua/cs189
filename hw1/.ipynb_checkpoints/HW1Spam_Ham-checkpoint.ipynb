{
 "cells": [
  {
   "cell_type": "code",
   "execution_count": 9,
   "metadata": {
    "collapsed": false
   },
   "outputs": [
    {
     "name": "stdout",
     "output_type": "stream",
     "text": [
      "Populating the interactive namespace from numpy and matplotlib\n"
     ]
    }
   ],
   "source": [
    "%pylab inline\n",
    "import sklearn.metrics\n",
    "import scipy.io\n",
    "from sklearn import svm\n",
    "DEBUG=True\n",
    "spam_data_test = scipy.io.loadmat(\"data/spam-dataset/spam_data.mat\")\n",
    "test_data = spam_data_test['test_data']\n",
    "train_data = spam_data_test['training_data']\n",
    "train_label = spam_data_test['training_labels']\n",
    "\n",
    "import math\n",
    "#benchmark.m, converted\n",
    "def benchmark(pred_labels, true_labels):\n",
    "    errors = pred_labels != true_labels\n",
    "    err_rate = sum(errors) / float(len(true_labels))\n",
    "    indices = errors.nonzero()\n",
    "    return err_rate, indices\n",
    "#montage_images.m, converted\n",
    "def montage_images(images):\n",
    "    num_images=min(1000,np.size(images,2))\n",
    "    numrows=math.floor(math.sqrt(num_images))\n",
    "    numcols=math.ceil(num_images/numrows)\n",
    "    img=np.zeros((numrows*28,numcols*28));\n",
    "    for k in range(num_images):\n",
    "        r = k % numrows\n",
    "        c = k // numrows\n",
    "        img[r*28:(r+1)*28,c*28:(c+1)*28]=images[:,:,k];\n",
    "    return img"
   ]
  },
  {
   "cell_type": "markdown",
   "metadata": {},
   "source": [
    "Here the features are words, there are 32 words inside featurize.py"
   ]
  },
  {
   "cell_type": "code",
   "execution_count": 24,
   "metadata": {
    "collapsed": false
   },
   "outputs": [
    {
     "name": "stdout",
     "output_type": "stream",
     "text": [
      "518\n"
     ]
    }
   ],
   "source": [
    "#Setting up the problem k=10-fold cross validation\n",
    "N_total = 5172\n",
    "k=10\n",
    "batch_size = int(np.ceil(shape(train_data)[0]/float(k)))\n",
    "if (DEBUG): print batch_size\n",
    "#Creating a list of 10000 random numbers\n",
    "s = set()\n",
    "while len(s) < N_total:\n",
    "    s.add(random.randint(N_total))\n",
    "rand_idx=np.array(list(s))\n",
    "np.random.shuffle(rand_idx)"
   ]
  },
  {
   "cell_type": "code",
   "execution_count": 25,
   "metadata": {
    "collapsed": false
   },
   "outputs": [
    {
     "name": "stdout",
     "output_type": "stream",
     "text": [
      "(5172, 32)\n",
      "(32,)\n",
      "1\n"
     ]
    }
   ],
   "source": [
    "print shape(train_data)\n",
    "print shape(train_data[5,:])\n",
    "print train_label[0][10]"
   ]
  },
  {
   "cell_type": "code",
   "execution_count": 31,
   "metadata": {
    "collapsed": false
   },
   "outputs": [
    {
     "name": "stdout",
     "output_type": "stream",
     "text": [
      "[ 0.  0.  0.  0.  0.  0.  0.  0.  0.  0.  0.  0.  0.  0.  0.  0.  0.  0.\n",
      "  0.  1.  0.  0.  0.  0.  0.  0.  0.  0.  4.  1.  0.  0.]\n"
     ]
    }
   ],
   "source": [
    "print train_data[idx,:]"
   ]
  },
  {
   "cell_type": "code",
   "execution_count": 39,
   "metadata": {
    "collapsed": false
   },
   "outputs": [
    {
     "name": "stdout",
     "output_type": "stream",
     "text": [
      "(5172, 32)\n",
      "(5172, 1)\n"
     ]
    }
   ],
   "source": [
    "print shape(train_data)\n",
    "print shape(train_label.T)"
   ]
  },
  {
   "cell_type": "code",
   "execution_count": 43,
   "metadata": {
    "collapsed": false
   },
   "outputs": [
    {
     "name": "stdout",
     "output_type": "stream",
     "text": [
      "(518, 32)\n",
      "(518,)\n",
      "(518, 32)\n",
      "(518,)\n",
      "(518, 32)\n",
      "(518,)\n",
      "(518, 32)\n",
      "(518,)\n",
      "(518, 32)\n",
      "(518,)\n",
      "(518, 32)\n",
      "(518,)\n",
      "(518, 32)\n",
      "(518,)\n",
      "(518, 32)\n",
      "(518,)\n",
      "(518, 32)\n",
      "(518,)\n",
      "(510, 32)\n",
      "(510,)\n",
      "(10,)\n",
      "(10,)\n",
      "(10,)\n",
      "(10,)\n"
     ]
    }
   ],
   "source": [
    "#Creating a gigantic array of all the training sets, grouped by each batch (fold)\n",
    "mega_train_subset=[]\n",
    "mega_labels_subset=[]\n",
    "#Looping through each fold\n",
    "for i in np.arange(k)+1:\n",
    "#     print \"Batch {}\".format(i)\n",
    "    train_subset = []\n",
    "    labels_subset = []\n",
    "#     print (i-1)*batch_size\n",
    "#     print i*batch_size\n",
    "#     print shape(rand_idx[(i-1)*batch_size:i*batch_size])\n",
    "    #Merge data for each batch into one\n",
    "    for idx in rand_idx[(i-1)*batch_size:i*batch_size]:\n",
    "        train_subset.append(train_data[idx])\n",
    "        labels_subset.append(train_label[0][idx])\n",
    "    train_subset = np.array(train_subset)\n",
    "    labels_subset = np.array(labels_subset)\n",
    "    print shape(train_subset)\n",
    "    print shape(labels_subset)\n",
    "    mega_train_subset.append(train_subset)\n",
    "    mega_labels_subset.append(labels_subset)\n",
    "mega_train_subset = np.array(mega_train_subset)\n",
    "mega_labels_subset = np.array(mega_labels_subset)\n",
    "if (DEBUG): print shape(mega_train_subset)\n",
    "if (DEBUG): print shape(mega_labels_subset)"
   ]
  },
  {
   "cell_type": "code",
   "execution_count": 34,
   "metadata": {
    "collapsed": false
   },
   "outputs": [
    {
     "name": "stdout",
     "output_type": "stream",
     "text": [
      "Testing C=1e-05\n"
     ]
    },
    {
     "ename": "IndexError",
     "evalue": "too many indices for array",
     "output_type": "error",
     "traceback": [
      "\u001b[1;31m---------------------------------------------------------------------------\u001b[0m",
      "\u001b[1;31mIndexError\u001b[0m                                Traceback (most recent call last)",
      "\u001b[1;32m<ipython-input-34-f3c960eed54c>\u001b[0m in \u001b[0;36m<module>\u001b[1;34m()\u001b[0m\n\u001b[0;32m     10\u001b[0m         \u001b[0mverify_labels\u001b[0m \u001b[1;33m=\u001b[0m \u001b[0mmega_labels_subset\u001b[0m\u001b[1;33m[\u001b[0m\u001b[0mk_th_set\u001b[0m\u001b[1;33m]\u001b[0m\u001b[1;33m\u001b[0m\u001b[0m\n\u001b[0;32m     11\u001b[0m         \u001b[1;31m#select only the ones EXCLUDING the kth element for training\u001b[0m\u001b[1;33m\u001b[0m\u001b[1;33m\u001b[0m\u001b[0m\n\u001b[1;32m---> 12\u001b[1;33m         \u001b[0mtrain_data\u001b[0m \u001b[1;33m=\u001b[0m \u001b[0mnp\u001b[0m\u001b[1;33m.\u001b[0m\u001b[0mconcatenate\u001b[0m\u001b[1;33m(\u001b[0m\u001b[1;33m(\u001b[0m\u001b[0mmega_train_subset\u001b[0m\u001b[1;33m[\u001b[0m\u001b[1;33m:\u001b[0m\u001b[0mk_th_set\u001b[0m\u001b[1;33m-\u001b[0m\u001b[1;36m1\u001b[0m\u001b[1;33m,\u001b[0m\u001b[1;33m:\u001b[0m\u001b[1;33m,\u001b[0m\u001b[1;33m:\u001b[0m\u001b[1;33m]\u001b[0m\u001b[1;33m,\u001b[0m\u001b[0mmega_train_subset\u001b[0m\u001b[1;33m[\u001b[0m\u001b[0mk_th_set\u001b[0m\u001b[1;33m:\u001b[0m\u001b[1;33m,\u001b[0m\u001b[1;33m:\u001b[0m\u001b[1;33m,\u001b[0m\u001b[1;33m:\u001b[0m\u001b[1;33m]\u001b[0m\u001b[1;33m)\u001b[0m\u001b[1;33m)\u001b[0m\u001b[1;33m\u001b[0m\u001b[0m\n\u001b[0m\u001b[0;32m     13\u001b[0m         \u001b[1;31m#Merging all the kth batches into one large datafile\u001b[0m\u001b[1;33m\u001b[0m\u001b[1;33m\u001b[0m\u001b[0m\n\u001b[0;32m     14\u001b[0m         \u001b[0mtrain_data\u001b[0m \u001b[1;33m=\u001b[0m  \u001b[0mtrain_data\u001b[0m\u001b[1;33m.\u001b[0m\u001b[0mreshape\u001b[0m\u001b[1;33m(\u001b[0m\u001b[1;33m(\u001b[0m\u001b[0mshape\u001b[0m\u001b[1;33m(\u001b[0m \u001b[0mtrain_data\u001b[0m\u001b[1;33m)\u001b[0m\u001b[1;33m[\u001b[0m\u001b[1;36m0\u001b[0m\u001b[1;33m]\u001b[0m\u001b[1;33m*\u001b[0m\u001b[0mbatch_size\u001b[0m\u001b[1;33m,\u001b[0m\u001b[0mshape\u001b[0m\u001b[1;33m(\u001b[0m\u001b[0mtrain_data\u001b[0m\u001b[1;33m)\u001b[0m\u001b[1;33m[\u001b[0m\u001b[1;36m2\u001b[0m\u001b[1;33m]\u001b[0m\u001b[1;33m)\u001b[0m\u001b[1;33m)\u001b[0m\u001b[1;33m\u001b[0m\u001b[0m\n",
      "\u001b[1;31mIndexError\u001b[0m: too many indices for array"
     ]
    }
   ],
   "source": [
    "mse_lst_for_diff_C = []\n",
    "# C_list = [1e-5,1e-2,1,10,100,1000,1e5,1e8,1e10,1e20] \n",
    "C_list = [1e-5, 1e-3,1e-2]#,1000,1e5,1e8,1e10] \n",
    "for c in C_list:\n",
    "    print \"Testing C={}\".format(c)\n",
    "    mse_err_lst=[]\n",
    "    for k_th_set in np.arange(k):\n",
    "        #selecting the kth element for verification set\n",
    "        verify_data = mega_train_subset[k_th_set]\n",
    "        verify_labels = mega_labels_subset[k_th_set]\n",
    "        #select only the ones EXCLUDING the kth element for training\n",
    "        train_data = np.concatenate((mega_train_subset[:k_th_set-1,:,:],mega_train_subset[k_th_set:,:,:]))\n",
    "        #Merging all the kth batches into one large datafile \n",
    "        train_data =  train_data.reshape((shape( train_data)[0]*batch_size,shape(train_data)[2]))\n",
    "        train_labels = np.concatenate((mega_labels_subset[:k_th_set-1],mega_labels_subset[k_th_set:]))\n",
    "        train_labels = train_labels.reshape((shape(train_labels)[0]*batch_size,))\n",
    "#         print shape(train_labels)[0]*batch_size\n",
    "#         print shape(train_data)\n",
    "#         print shape(train_labels)\n",
    "#         clf = svm.SVC(kernel=\"linear\", C=c)\n",
    "        clf = svm.LinearSVC(C=c)\n",
    "        clf.fit(train_data,train_labels)\n",
    "        result = clf.predict(verify_data)\n",
    "        mse = benchmark(verify_labels, result)[0]\n",
    "#         print mse\n",
    "        mse_err_lst.append(mse)\n",
    "#     print \"average mse: \", mean(mse_err_lst)\n",
    "    mse_lst_for_diff_C.append(mean(mse_err_lst))"
   ]
  },
  {
   "cell_type": "code",
   "execution_count": 10,
   "metadata": {
    "collapsed": false,
    "scrolled": true
   },
   "outputs": [
    {
     "name": "stdout",
     "output_type": "stream",
     "text": [
      "[1e-10, 1e-08, 1e-07, 1e-05, 0.001, 0.01]\n",
      "[0.27789999999999998, 0.1537, 0.11579999999999999, 0.069199999999999998, 0.091599999999999987, 0.097599999999999992]\n"
     ]
    }
   ],
   "source": [
    "print C_list\n",
    "print mse_lst_for_diff_C"
   ]
  },
  {
   "cell_type": "code",
   "execution_count": 13,
   "metadata": {
    "collapsed": false
   },
   "outputs": [
    {
     "data": {
      "text/plain": [
       "[<matplotlib.lines.Line2D at 0x7f9a2eaafa10>]"
      ]
     },
     "execution_count": 13,
     "metadata": {},
     "output_type": "execute_result"
    },
    {
     "data": {
      "image/png": "[encoded data removed]",
      "text/plain": [
       "<matplotlib.figure.Figure at 0x7f9a30a0c390>"
      ]
     },
     "metadata": {},
     "output_type": "display_data"
    }
   ],
   "source": [
    "plt.xlabel(\"C values\",fontsize=16)\n",
    "plt.ylabel(\"Error rate\",fontsize=16)\n",
    "plt.semilogx(C_list,mse_lst_for_diff_C,'o')\n",
    "plt.semilogx(C_list,mse_lst_for_diff_C,'-')"
   ]
  },
  {
   "cell_type": "code",
   "execution_count": 66,
   "metadata": {
    "collapsed": true
   },
   "outputs": [],
   "source": [
    "digit_data_test = scipy.io.loadmat(\"data/digit-dataset/test.mat\")\n",
    "digit_data_train = scipy.io.loadmat(\"data/digit-dataset/train.mat\")\n",
    "\n",
    "test_img= digit_data_test['test_images'].T\n",
    "train_img= digit_data_train['train_images']\n",
    "train_label= digit_data_train['train_labels']"
   ]
  },
  {
   "cell_type": "code",
   "execution_count": 68,
   "metadata": {
    "collapsed": false
   },
   "outputs": [
    {
     "name": "stdout",
     "output_type": "stream",
     "text": [
      "(28, 28, 60000)\n",
      "(28, 28, 10000)\n"
     ]
    }
   ],
   "source": [
    "print shape(train_img)\n",
    "print shape(test_img)"
   ]
  },
  {
   "cell_type": "code",
   "execution_count": 71,
   "metadata": {
    "collapsed": true
   },
   "outputs": [],
   "source": [
    "test_img_flat=[]\n",
    "for i in np.arange(shape(test_img)[2]):\n",
    "    test_img_flat.append(test_img[:,:,i].flatten())\n",
    "test_img_flat= np.array(test_img_flat)"
   ]
  },
  {
   "cell_type": "code",
   "execution_count": 72,
   "metadata": {
    "collapsed": false
   },
   "outputs": [
    {
     "data": {
      "text/plain": [
       "(10000, 784)"
      ]
     },
     "execution_count": 72,
     "metadata": {},
     "output_type": "execute_result"
    }
   ],
   "source": [
    "shape(test_img_flat)"
   ]
  },
  {
   "cell_type": "code",
   "execution_count": 73,
   "metadata": {
    "collapsed": false
   },
   "outputs": [
    {
     "data": {
      "text/plain": [
       "LinearSVC(C=5e-05, class_weight=None, dual=True, fit_intercept=True,\n",
       "     intercept_scaling=1, loss='squared_hinge', max_iter=1000,\n",
       "     multi_class='ovr', penalty='l2', random_state=None, tol=0.0001,\n",
       "     verbose=0)"
      ]
     },
     "execution_count": 73,
     "metadata": {},
     "output_type": "execute_result"
    }
   ],
   "source": [
    "clf = svm.LinearSVC(C=5e-5)\n",
    "clf.fit(train_data,train_labels)"
   ]
  },
  {
   "cell_type": "code",
   "execution_count": 75,
   "metadata": {
    "collapsed": false
   },
   "outputs": [],
   "source": [
    "result = clf.predict(test_img_flat)"
   ]
  },
  {
   "cell_type": "code",
   "execution_count": 87,
   "metadata": {
    "collapsed": false
   },
   "outputs": [
    {
     "data": {
      "text/plain": [
       "<matplotlib.image.AxesImage at 0x7f9aea6f1650>"
      ]
     },
     "execution_count": 87,
     "metadata": {},
     "output_type": "execute_result"
    },
    {
     "data": {
      "image/png": "[encoded data removed]",
      "text/plain": [
       "<matplotlib.figure.Figure at 0x7f9aea747dd0>"
      ]
     },
     "metadata": {},
     "output_type": "display_data"
    }
   ],
   "source": [
    "plt.imshow(montage_images(test_img_flat.T.reshape((28,28,10000))[:,:,:50]))"
   ]
  },
  {
   "cell_type": "code",
   "execution_count": 88,
   "metadata": {
    "collapsed": false
   },
   "outputs": [
    {
     "data": {
      "text/plain": [
       "array([9, 5, 6, 2, 9, 5, 1, 4, 5, 4, 9, 0, 8, 8, 1, 5, 0, 0, 3, 1, 9, 1, 7,\n",
       "       2, 3, 4, 6, 1, 1, 5, 9, 6, 7, 1, 0, 1, 0, 2, 1, 4, 7, 7, 9, 0, 9, 4,\n",
       "       6, 3, 7, 7], dtype=uint8)"
      ]
     },
     "execution_count": 88,
     "metadata": {},
     "output_type": "execute_result"
    }
   ],
   "source": [
    "result[:50]"
   ]
  },
  {
   "cell_type": "code",
   "execution_count": 94,
   "metadata": {
    "collapsed": false
   },
   "outputs": [
    {
     "data": {
      "text/plain": [
       "array([    1,     2,     3, ...,  9998,  9999, 10000])"
      ]
     },
     "execution_count": 94,
     "metadata": {},
     "output_type": "execute_result"
    }
   ],
   "source": [
    "np.arange(1,10001)"
   ]
  },
  {
   "cell_type": "code",
   "execution_count": 104,
   "metadata": {
    "collapsed": false
   },
   "outputs": [
    {
     "name": "stdout",
     "output_type": "stream",
     "text": [
      "(10000, 2)\n"
     ]
    }
   ],
   "source": [
    "a = numpy.array([np.arange(1,10001),result],dtype=np.int64).T\n",
    "print shape(a)\n",
    "numpy.savetxt(\"Submission.csv\", a, delimiter=\",\",fmt='%i')"
   ]
  },
  {
   "cell_type": "markdown",
   "metadata": {},
   "source": [
    "#References\n",
    "\n",
    "- \"1.4. Support Vector Machines.\" 1.4. Support Vector Machines — _Scikit-learn 0.17 Documentation_. N.p., n.d. Web. 01 Feb. 2016.\n",
    "- Markham, Kevin. \"Simple Guide to Confusion Matrix Terminology.\" _Data School_. N.p., 25 Mar. 2014. Web. 01 Feb. 2016.\n",
    "- \"Confusion Matrix.\" Confusion Matrix — _Scikit-learn 0.17 Documentation_. N.p., n.d. Web. 02 Feb. 2016.\n",
    "- James, Gareth, Daniela Witten, Trevor Hastie, and Robert Tibshirani. \"Chapter 5 Resampling Methods.\" _An Introduction to Statistical Learning: With Applications in R_. N.p.: Springer, n.d. 180-83. Print."
   ]
  },
  {
   "cell_type": "code",
   "execution_count": null,
   "metadata": {
    "collapsed": true
   },
   "outputs": [],
   "source": []
  },
  {
   "cell_type": "code",
   "execution_count": null,
   "metadata": {
    "collapsed": true
   },
   "outputs": [],
   "source": []
  },
  {
   "cell_type": "code",
   "execution_count": null,
   "metadata": {
    "collapsed": true
   },
   "outputs": [],
   "source": []
  }
 ],
 "metadata": {
  "kernelspec": {
   "display_name": "Python 2",
   "language": "python",
   "name": "python2"
  },
  "language_info": {
   "codemirror_mode": {
    "name": "ipython",
    "version": 2
   },
   "file_extension": ".py",
   "mimetype": "text/x-python",
   "name": "python",
   "nbconvert_exporter": "python",
   "pygments_lexer": "ipython2",
   "version": "2.7.10"
  }
 },
 "nbformat": 4,
 "nbformat_minor": 0
}
